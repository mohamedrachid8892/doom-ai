{
 "cells": [
  {
   "cell_type": "markdown",
   "id": "0b3e8a33-6fc3-4881-855f-185032e7a9c5",
   "metadata": {
    "tags": []
   },
   "source": [
    "# 1. Get VizDoom Up and Running"
   ]
  },
  {
   "cell_type": "code",
   "execution_count": 8,
   "id": "37d72d31-3b43-49c5-9fd4-26f9b172d647",
   "metadata": {
    "tags": []
   },
   "outputs": [
    {
     "name": "stdout",
     "output_type": "stream",
     "text": [
      "Requirement already satisfied: vizdoom in c:\\users\\moham\\appdata\\local\\programs\\python\\python38\\lib\\site-packages (1.1.14)\n",
      "Requirement already satisfied: numpy in c:\\users\\moham\\appdata\\local\\programs\\python\\python38\\lib\\site-packages (from vizdoom) (1.24.3)\n"
     ]
    },
    {
     "name": "stderr",
     "output_type": "stream",
     "text": [
      "WARNING: You are using pip version 19.2.3, however version 23.1.1 is available.\n",
      "You should consider upgrading via the 'python -m pip install --upgrade pip' command.\n"
     ]
    }
   ],
   "source": [
    "!pip install vizdoom"
   ]
  },
  {
   "cell_type": "code",
   "execution_count": 9,
   "id": "f2858ba5-8a11-4e66-b166-81b3dd471054",
   "metadata": {
    "tags": []
   },
   "outputs": [
    {
     "name": "stderr",
     "output_type": "stream",
     "text": [
      "fatal: destination path 'ViZDoom' already exists and is not an empty directory.\n"
     ]
    }
   ],
   "source": [
    "!cd github & git clone https://github.com/Farama-Foundation/ViZDoom.git"
   ]
  },
  {
   "cell_type": "code",
   "execution_count": 12,
   "id": "3994bc91-d4c3-403f-b86a-0d9fa58c59cc",
   "metadata": {
    "tags": []
   },
   "outputs": [],
   "source": [
    "# Import vizdoom for game environment\n",
    "from vizdoom import *\n",
    "# Import random to take random actions\n",
    "import random\n",
    "# Import time to slow down game, sleep between frames\n",
    "import time\n",
    "# Import numpy for identity matrix\n",
    "import numpy as np"
   ]
  },
  {
   "cell_type": "code",
   "execution_count": 4,
   "id": "2901405e-8dd6-4a73-bb6a-779db1b45715",
   "metadata": {
    "tags": []
   },
   "outputs": [],
   "source": [
    "# Setup Game\n",
    "game = DoomGame()\n",
    "game.load_config('github/ViZDoom/scenarios/basic.cfg')\n",
    "game.init()"
   ]
  },
  {
   "cell_type": "code",
   "execution_count": 5,
   "id": "1f394bfb-ce13-437b-98c1-d50923601ed0",
   "metadata": {
    "tags": []
   },
   "outputs": [],
   "source": [
    "# Define the actions we can take in the environment - Move left, move right, attack\n",
    "actions = np.identity(3, dtype=np.uint8) "
   ]
  },
  {
   "cell_type": "code",
   "execution_count": 6,
   "id": "ecdae2b0-ba77-49b4-b1b0-53e98770620c",
   "metadata": {
    "tags": []
   },
   "outputs": [
    {
     "data": {
      "text/plain": [
       "array([0, 1, 0], dtype=uint8)"
      ]
     },
     "execution_count": 6,
     "metadata": {},
     "output_type": "execute_result"
    }
   ],
   "source": [
    "random.choice(actions)"
   ]
  },
  {
   "cell_type": "code",
   "execution_count": 7,
   "id": "960fffb8-5d08-4b44-9c5f-5c76cf239a07",
   "metadata": {
    "collapsed": true,
    "jupyter": {
     "outputs_hidden": true
    },
    "tags": []
   },
   "outputs": [
    {
     "name": "stdout",
     "output_type": "stream",
     "text": [
      "Reward: -4.0\n",
      "Reward: 99.0\n",
      "Result: 95.0\n",
      "Reward: -4.0\n",
      "Reward: -4.0\n",
      "Reward: -9.0\n",
      "Reward: -4.0\n",
      "Reward: -4.0\n",
      "Reward: -9.0\n",
      "Reward: -4.0\n",
      "Reward: -4.0\n",
      "Reward: -4.0\n",
      "Reward: -4.0\n",
      "Reward: -9.0\n",
      "Reward: -4.0\n",
      "Reward: -4.0\n",
      "Reward: -4.0\n",
      "Reward: -4.0\n",
      "Reward: -4.0\n",
      "Reward: -9.0\n",
      "Reward: -4.0\n",
      "Reward: -4.0\n",
      "Reward: -9.0\n",
      "Reward: -4.0\n",
      "Reward: -4.0\n",
      "Reward: -4.0\n",
      "Reward: -4.0\n",
      "Reward: -4.0\n",
      "Reward: -9.0\n",
      "Reward: -4.0\n",
      "Reward: -4.0\n",
      "Reward: -4.0\n",
      "Reward: -4.0\n",
      "Reward: -9.0\n",
      "Reward: -4.0\n",
      "Reward: -4.0\n",
      "Reward: -4.0\n",
      "Reward: -9.0\n",
      "Reward: -4.0\n",
      "Reward: -4.0\n",
      "Reward: -4.0\n",
      "Reward: -4.0\n",
      "Reward: -4.0\n",
      "Reward: -4.0\n",
      "Reward: -4.0\n",
      "Reward: -4.0\n",
      "Reward: -4.0\n",
      "Reward: -4.0\n",
      "Reward: -9.0\n",
      "Reward: -4.0\n",
      "Reward: -4.0\n",
      "Reward: -4.0\n",
      "Reward: -4.0\n",
      "Reward: -4.0\n",
      "Reward: -4.0\n",
      "Reward: -4.0\n",
      "Reward: -4.0\n",
      "Reward: -4.0\n",
      "Reward: -4.0\n",
      "Reward: -9.0\n",
      "Reward: -4.0\n",
      "Reward: -4.0\n",
      "Reward: -9.0\n",
      "Reward: -4.0\n",
      "Reward: -4.0\n",
      "Reward: -4.0\n",
      "Reward: -4.0\n",
      "Reward: -4.0\n",
      "Reward: -9.0\n",
      "Reward: -4.0\n",
      "Reward: -4.0\n",
      "Reward: -4.0\n",
      "Reward: -4.0\n",
      "Reward: -9.0\n",
      "Reward: -4.0\n",
      "Reward: -4.0\n",
      "Reward: -9.0\n",
      "Reward: -4.0\n",
      "Result: -370.0\n",
      "Reward: -4.0\n",
      "Reward: -4.0\n",
      "Reward: -4.0\n",
      "Reward: 99.0\n",
      "Result: 87.0\n",
      "Reward: -4.0\n",
      "Reward: -4.0\n",
      "Reward: -9.0\n",
      "Reward: -4.0\n",
      "Reward: -4.0\n",
      "Reward: -4.0\n",
      "Reward: -4.0\n",
      "Reward: -9.0\n",
      "Reward: -4.0\n",
      "Reward: -4.0\n",
      "Reward: -9.0\n",
      "Reward: -4.0\n",
      "Reward: -4.0\n",
      "Reward: -4.0\n",
      "Reward: -9.0\n",
      "Reward: -4.0\n",
      "Reward: -4.0\n",
      "Reward: -4.0\n",
      "Reward: 97.0\n",
      "Reward: -1.0\n",
      "Result: 4.0\n",
      "Reward: -4.0\n",
      "Reward: -4.0\n",
      "Reward: -4.0\n",
      "Reward: -9.0\n",
      "Reward: -4.0\n",
      "Reward: -4.0\n",
      "Reward: -4.0\n",
      "Reward: -9.0\n",
      "Reward: -4.0\n",
      "Reward: -4.0\n",
      "Reward: -4.0\n",
      "Reward: -4.0\n",
      "Reward: -4.0\n",
      "Reward: -4.0\n",
      "Reward: -4.0\n",
      "Reward: -4.0\n",
      "Reward: -9.0\n",
      "Reward: -4.0\n",
      "Reward: -4.0\n",
      "Reward: -4.0\n",
      "Reward: -9.0\n",
      "Reward: -4.0\n",
      "Reward: -4.0\n",
      "Reward: -4.0\n",
      "Reward: -9.0\n",
      "Reward: -4.0\n",
      "Reward: -4.0\n",
      "Reward: -4.0\n",
      "Reward: -4.0\n",
      "Reward: -9.0\n",
      "Reward: -4.0\n",
      "Reward: -4.0\n",
      "Reward: -4.0\n",
      "Reward: -4.0\n",
      "Reward: -4.0\n",
      "Reward: -9.0\n",
      "Reward: -4.0\n",
      "Reward: -4.0\n",
      "Reward: -4.0\n",
      "Reward: -9.0\n",
      "Reward: -4.0\n",
      "Reward: -4.0\n",
      "Reward: -4.0\n",
      "Reward: -4.0\n",
      "Reward: -4.0\n",
      "Reward: -4.0\n",
      "Reward: -9.0\n",
      "Reward: -4.0\n",
      "Reward: -4.0\n",
      "Reward: -9.0\n",
      "Reward: -4.0\n",
      "Reward: -4.0\n",
      "Reward: -4.0\n",
      "Reward: -9.0\n",
      "Reward: -4.0\n",
      "Reward: -4.0\n",
      "Reward: -4.0\n",
      "Reward: -4.0\n",
      "Reward: -4.0\n",
      "Reward: -4.0\n",
      "Reward: -9.0\n",
      "Reward: -4.0\n",
      "Reward: -4.0\n",
      "Reward: -9.0\n",
      "Reward: -4.0\n",
      "Reward: -4.0\n",
      "Reward: -4.0\n",
      "Reward: -9.0\n",
      "Reward: -4.0\n",
      "Reward: -4.0\n",
      "Reward: -4.0\n",
      "Reward: -4.0\n",
      "Reward: -4.0\n",
      "Reward: -4.0\n",
      "Reward: -9.0\n",
      "Result: -375.0\n"
     ]
    },
    {
     "ename": "ViZDoomUnexpectedExitException",
     "evalue": "Controlled ViZDoom instance exited unexpectedly.",
     "output_type": "error",
     "traceback": [
      "\u001b[1;31m---------------------------------------------------------------------------\u001b[0m",
      "\u001b[1;31mViZDoomUnexpectedExitException\u001b[0m            Traceback (most recent call last)",
      "Cell \u001b[1;32mIn[7], line 5\u001b[0m\n\u001b[0;32m      2\u001b[0m episodes \u001b[38;5;241m=\u001b[39m \u001b[38;5;241m10\u001b[39m \u001b[38;5;66;03m# Number of games to play\u001b[39;00m\n\u001b[0;32m      3\u001b[0m \u001b[38;5;28;01mfor\u001b[39;00m episode \u001b[38;5;129;01min\u001b[39;00m \u001b[38;5;28mrange\u001b[39m(episodes):\n\u001b[0;32m      4\u001b[0m     \u001b[38;5;66;03m# Create new episode or game\u001b[39;00m\n\u001b[1;32m----> 5\u001b[0m     \u001b[43mgame\u001b[49m\u001b[38;5;241;43m.\u001b[39;49m\u001b[43mnew_episode\u001b[49m\u001b[43m(\u001b[49m\u001b[43m)\u001b[49m\n\u001b[0;32m      6\u001b[0m     \u001b[38;5;66;03m# Check that the game isn't done\u001b[39;00m\n\u001b[0;32m      7\u001b[0m     \u001b[38;5;28;01mwhile\u001b[39;00m \u001b[38;5;129;01mnot\u001b[39;00m game\u001b[38;5;241m.\u001b[39mis_episode_finished():\n\u001b[0;32m      8\u001b[0m         \u001b[38;5;66;03m# Get the game state\u001b[39;00m\n",
      "\u001b[1;31mViZDoomUnexpectedExitException\u001b[0m: Controlled ViZDoom instance exited unexpectedly."
     ]
    }
   ],
   "source": [
    "# Loop through episodes\n",
    "episodes = 10 # Number of games to play\n",
    "for episode in range(episodes):\n",
    "    # Create new episode or game\n",
    "    game.new_episode()\n",
    "    # Check that the game isn't done\n",
    "    while not game.is_episode_finished():\n",
    "        # Get the game state\n",
    "        state = game.get_state()\n",
    "        # Get the game image\n",
    "        img = state.screen_buffer\n",
    "        # Get the game variables (in this case, ammo)\n",
    "        info = state.game_variables\n",
    "        # Take an action. Pass in frame skip to give AI time to process each action reward\n",
    "        reward = game.make_action(random.choice(actions), 4)\n",
    "        # Print the reward for each action\n",
    "        print('Reward:', reward)\n",
    "        time.sleep(0.02)\n",
    "    # Print total reward for full game\n",
    "    print('Result:', game.get_total_reward())\n",
    "    time.sleep(2)"
   ]
  },
  {
   "cell_type": "code",
   "execution_count": null,
   "id": "f79c2ce0-96a8-44c0-9d72-562ee22f5da9",
   "metadata": {
    "tags": []
   },
   "outputs": [],
   "source": [
    "game.close()"
   ]
  },
  {
   "cell_type": "markdown",
   "id": "5026b1c4-52c6-4b0c-ad28-9b4f04b87be9",
   "metadata": {},
   "source": [
    "# 2. Converting the Environment to a Gym Envrionment"
   ]
  },
  {
   "cell_type": "code",
   "execution_count": 13,
   "id": "f3aaaecf-12e5-4ac9-9eab-272000d7723a",
   "metadata": {
    "tags": []
   },
   "outputs": [
    {
     "name": "stdout",
     "output_type": "stream",
     "text": [
      "Requirement already satisfied: gym in c:\\users\\moham\\appdata\\local\\programs\\python\\python38\\lib\\site-packages (0.21.0)\n",
      "Requirement already satisfied: numpy>=1.18.0 in c:\\users\\moham\\appdata\\local\\programs\\python\\python38\\lib\\site-packages (from gym) (1.24.3)\n",
      "Requirement already satisfied: cloudpickle>=1.2.0 in c:\\users\\moham\\appdata\\local\\programs\\python\\python38\\lib\\site-packages (from gym) (2.2.1)\n"
     ]
    },
    {
     "name": "stderr",
     "output_type": "stream",
     "text": [
      "WARNING: You are using pip version 19.2.3, however version 23.1.1 is available.\n",
      "You should consider upgrading via the 'python -m pip install --upgrade pip' command.\n"
     ]
    }
   ],
   "source": [
    "!pip install gym"
   ]
  },
  {
   "cell_type": "code",
   "execution_count": 14,
   "id": "9bac96f0-76a0-4826-bddd-1fc6332ca1ca",
   "metadata": {
    "tags": []
   },
   "outputs": [],
   "source": [
    "# Import environment base class from OpenAI Gym\n",
    "from gym import Env\n",
    "# Import gym spaces\n",
    "from gym.spaces import Discrete, Box\n",
    "# Import opencv, Used to greyscale observations to make processing environment faster\n",
    "import cv2"
   ]
  },
  {
   "cell_type": "code",
   "execution_count": 15,
   "id": "3c715b10-23ac-4e4f-8a38-d76bbea4e096",
   "metadata": {
    "scrolled": true,
    "tags": []
   },
   "outputs": [],
   "source": [
    "# Create VIZDoom OpenAI Gym Environment\n",
    "class VizDoomGym(Env):\n",
    "    \n",
    "    # Function that is called when we start the environment\n",
    "    def __init__(self, render=False):\n",
    "        # Inherit from Env\n",
    "        super().__init__()\n",
    "        \n",
    "        # Setup the game\n",
    "        self.game = DoomGame()\n",
    "        self.game.load_config('github/ViZDoom/scenarios/basic.cfg') # Pass in whatever environment you need from the scenarios folder.\n",
    "        \n",
    "        # Define whether or not to render the game window.\n",
    "        # Rendering the window takes away from computing power, so disabling is ideal for testing\n",
    "        if render == False:\n",
    "            self.game.set_window_visible(False)\n",
    "        else:\n",
    "            self.game.set_window_visible(True)\n",
    "        \n",
    "        self.game.init()\n",
    "        \n",
    "        # Create the action and observation space\n",
    "        self.observation_space = Box(low=0, high=255, shape=(100, 160, 1), dtype=np.uint8)\n",
    "        self.action_space = Discrete(3)\n",
    "    \n",
    "    # How we take a step in the environment\n",
    "    def step(self, action):\n",
    "        # Specify action and take step within game\n",
    "        actions = np.identity(3, dtype=np.uint8)\n",
    "        reward = self.game.make_action(actions[action], 4)\n",
    "        \n",
    "        # Get all other stuff we need to return\n",
    "        if self.game.get_state():\n",
    "            state = self.game.get_state().screen_buffer\n",
    "            state = self.greyscale(state)\n",
    "            ammo = self.game.get_state().game_variables[0]\n",
    "            info = ammo\n",
    "        else:\n",
    "            state = np.zeros(self.observation_space.shape)\n",
    "            info = 0\n",
    "            \n",
    "        info = {\"info\": info}\n",
    "            \n",
    "        done = self.game.is_episode_finished()\n",
    "        \n",
    "        return state, reward, done, info\n",
    "    \n",
    "    # Define how to render the game or environment. ViZDOom already defines this for us, so just pass.\n",
    "    def render():\n",
    "        pass\n",
    "    \n",
    "    # What happens when we start a new gmae\n",
    "    def reset(self):\n",
    "        self.game.new_episode()\n",
    "        state = self.game.get_state().screen_buffer\n",
    "        return self.greyscale(state)\n",
    "    \n",
    "    # Custom function. Greyscale the game frame and resize it\n",
    "    def greyscale(self, observation):\n",
    "        # Reshape the observation array for cvtColor and change color channels\n",
    "        grey = cv2.cvtColor(np.moveaxis(observation, 0, -1), cv2.COLOR_BGR2GRAY)\n",
    "        # Resize the image and scale down so there are less pixels to process\n",
    "        resize = cv2.resize(grey, (160, 100), interpolation=cv2.INTER_CUBIC)\n",
    "        state = np.reshape(resize, (100, 160, 1))\n",
    "        return state\n",
    "    \n",
    "    # Call to close down the game\n",
    "    def close(self):\n",
    "        self.game.close()"
   ]
  },
  {
   "cell_type": "code",
   "execution_count": null,
   "id": "a1f59f82-04e8-4a83-b08a-68f7fb33336b",
   "metadata": {
    "tags": []
   },
   "outputs": [],
   "source": [
    "env = VizDoomGym(render=True)"
   ]
  },
  {
   "cell_type": "code",
   "execution_count": null,
   "id": "494b4cdf-d439-4214-b9c2-492bc66f4e9d",
   "metadata": {
    "tags": []
   },
   "outputs": [],
   "source": [
    "state = env.reset()"
   ]
  },
  {
   "cell_type": "code",
   "execution_count": null,
   "id": "2e7342b8-d2d9-4ad0-8dc1-af9492fe8c45",
   "metadata": {
    "tags": []
   },
   "outputs": [],
   "source": [
    "env.close()"
   ]
  },
  {
   "cell_type": "code",
   "execution_count": null,
   "id": "ea7be77c-5454-4f1f-823e-c9a3e256ebdf",
   "metadata": {
    "tags": []
   },
   "outputs": [],
   "source": [
    "# Import Environment checker\n",
    "from stable_baselines3.common import env_checker"
   ]
  },
  {
   "cell_type": "code",
   "execution_count": null,
   "id": "370e0ece-bc75-4476-b422-7f649eb21580",
   "metadata": {
    "tags": []
   },
   "outputs": [],
   "source": [
    "env_checker.check_env(env)"
   ]
  },
  {
   "cell_type": "markdown",
   "id": "eccb60e5-300a-4db1-ba42-b7e632948217",
   "metadata": {},
   "source": [
    "# 3. View State"
   ]
  },
  {
   "cell_type": "code",
   "execution_count": 8,
   "id": "95645a20-1b3d-423f-afae-9fa0ab926ada",
   "metadata": {
    "tags": []
   },
   "outputs": [
    {
     "name": "stdout",
     "output_type": "stream",
     "text": [
      "Requirement already satisfied: matplotlib in c:\\users\\moham\\appdata\\local\\programs\\python\\python38\\lib\\site-packages (3.7.1)\n",
      "Requirement already satisfied: cycler>=0.10 in c:\\users\\moham\\appdata\\local\\programs\\python\\python38\\lib\\site-packages (from matplotlib) (0.11.0)\n",
      "Requirement already satisfied: importlib-resources>=3.2.0; python_version < \"3.10\" in c:\\users\\moham\\appdata\\local\\programs\\python\\python38\\lib\\site-packages (from matplotlib) (5.12.0)\n",
      "Requirement already satisfied: kiwisolver>=1.0.1 in c:\\users\\moham\\appdata\\local\\programs\\python\\python38\\lib\\site-packages (from matplotlib) (1.4.4)\n",
      "Requirement already satisfied: fonttools>=4.22.0 in c:\\users\\moham\\appdata\\local\\programs\\python\\python38\\lib\\site-packages (from matplotlib) (4.39.3)\n",
      "Requirement already satisfied: packaging>=20.0 in c:\\users\\moham\\appdata\\local\\programs\\python\\python38\\lib\\site-packages (from matplotlib) (23.1)\n",
      "Requirement already satisfied: pyparsing>=2.3.1 in c:\\users\\moham\\appdata\\local\\programs\\python\\python38\\lib\\site-packages (from matplotlib) (3.0.9)\n",
      "Requirement already satisfied: python-dateutil>=2.7 in c:\\users\\moham\\appdata\\local\\programs\\python\\python38\\lib\\site-packages (from matplotlib) (2.8.2)\n",
      "Requirement already satisfied: numpy>=1.20 in c:\\users\\moham\\appdata\\local\\programs\\python\\python38\\lib\\site-packages (from matplotlib) (1.24.3)\n",
      "Requirement already satisfied: contourpy>=1.0.1 in c:\\users\\moham\\appdata\\local\\programs\\python\\python38\\lib\\site-packages (from matplotlib) (1.0.7)\n",
      "Requirement already satisfied: pillow>=6.2.0 in c:\\users\\moham\\appdata\\local\\programs\\python\\python38\\lib\\site-packages (from matplotlib) (9.5.0)\n",
      "Requirement already satisfied: zipp>=3.1.0; python_version < \"3.10\" in c:\\users\\moham\\appdata\\local\\programs\\python\\python38\\lib\\site-packages (from importlib-resources>=3.2.0; python_version < \"3.10\"->matplotlib) (3.15.0)\n",
      "Requirement already satisfied: six>=1.5 in c:\\users\\moham\\appdata\\local\\programs\\python\\python38\\lib\\site-packages (from python-dateutil>=2.7->matplotlib) (1.16.0)\n"
     ]
    },
    {
     "name": "stderr",
     "output_type": "stream",
     "text": [
      "WARNING: You are using pip version 19.2.3, however version 23.1.1 is available.\n",
      "You should consider upgrading via the 'python -m pip install --upgrade pip' command.\n"
     ]
    }
   ],
   "source": [
    "!pip install matplotlib"
   ]
  },
  {
   "cell_type": "code",
   "execution_count": 9,
   "id": "83e51f0a-2e6d-4d24-843f-85054082d69a",
   "metadata": {
    "tags": []
   },
   "outputs": [],
   "source": [
    "from matplotlib import pyplot as plt"
   ]
  },
  {
   "cell_type": "code",
   "execution_count": 10,
   "id": "c257ff4d-cdff-4eb4-b97d-4e9a16eacd94",
   "metadata": {
    "tags": []
   },
   "outputs": [
    {
     "ename": "NameError",
     "evalue": "name 'state' is not defined",
     "output_type": "error",
     "traceback": [
      "\u001b[1;31m---------------------------------------------------------------------------\u001b[0m",
      "\u001b[1;31mNameError\u001b[0m                                 Traceback (most recent call last)",
      "Cell \u001b[1;32mIn[10], line 1\u001b[0m\n\u001b[1;32m----> 1\u001b[0m plt\u001b[38;5;241m.\u001b[39mimshow(cv2\u001b[38;5;241m.\u001b[39mcvtColor(\u001b[43mstate\u001b[49m, cv2\u001b[38;5;241m.\u001b[39mCOLOR_BGR2RGB))\n",
      "\u001b[1;31mNameError\u001b[0m: name 'state' is not defined"
     ]
    }
   ],
   "source": [
    "plt.imshow(cv2.cvtColor(state, cv2.COLOR_BGR2RGB))"
   ]
  },
  {
   "cell_type": "markdown",
   "id": "de1c7913-a145-42d0-9633-7768a49846d9",
   "metadata": {
    "tags": []
   },
   "source": [
    "# 4. Log the Results"
   ]
  },
  {
   "cell_type": "code",
   "execution_count": 11,
   "id": "c2f72c4c-f4da-4a97-88ee-80ae5635cbaa",
   "metadata": {
    "collapsed": true,
    "jupyter": {
     "outputs_hidden": true
    },
    "tags": []
   },
   "outputs": [
    {
     "name": "stdout",
     "output_type": "stream",
     "text": [
      "Looking in indexes: https://download.pytorch.org/whl/cu117\n",
      "Requirement already satisfied: torch in c:\\users\\moham\\appdata\\local\\programs\\python\\python38\\lib\\site-packages (2.0.0+cu117)\n",
      "Requirement already satisfied: torchvision in c:\\users\\moham\\appdata\\local\\programs\\python\\python38\\lib\\site-packages (0.15.1+cu117)\n",
      "Requirement already satisfied: torchaudio in c:\\users\\moham\\appdata\\local\\programs\\python\\python38\\lib\\site-packages (2.0.1+cu117)\n",
      "Requirement already satisfied: networkx in c:\\users\\moham\\appdata\\local\\programs\\python\\python38\\lib\\site-packages (from torch) (3.0)\n",
      "Requirement already satisfied: filelock in c:\\users\\moham\\appdata\\local\\programs\\python\\python38\\lib\\site-packages (from torch) (3.9.0)\n",
      "Requirement already satisfied: sympy in c:\\users\\moham\\appdata\\local\\programs\\python\\python38\\lib\\site-packages (from torch) (1.11.1)\n",
      "Requirement already satisfied: typing-extensions in c:\\users\\moham\\appdata\\local\\programs\\python\\python38\\lib\\site-packages (from torch) (4.5.0)\n",
      "Requirement already satisfied: jinja2 in c:\\users\\moham\\appdata\\local\\programs\\python\\python38\\lib\\site-packages (from torch) (3.1.2)\n",
      "Requirement already satisfied: requests in c:\\users\\moham\\appdata\\local\\programs\\python\\python38\\lib\\site-packages (from torchvision) (2.29.0)\n",
      "Requirement already satisfied: pillow!=8.3.*,>=5.3.0 in c:\\users\\moham\\appdata\\local\\programs\\python\\python38\\lib\\site-packages (from torchvision) (9.5.0)\n",
      "Requirement already satisfied: numpy in c:\\users\\moham\\appdata\\local\\programs\\python\\python38\\lib\\site-packages (from torchvision) (1.24.3)\n",
      "Requirement already satisfied: mpmath>=0.19 in c:\\users\\moham\\appdata\\local\\programs\\python\\python38\\lib\\site-packages (from sympy->torch) (1.2.1)\n",
      "Requirement already satisfied: MarkupSafe>=2.0 in c:\\users\\moham\\appdata\\local\\programs\\python\\python38\\lib\\site-packages (from jinja2->torch) (2.1.2)\n",
      "Requirement already satisfied: certifi>=2017.4.17 in c:\\users\\moham\\appdata\\local\\programs\\python\\python38\\lib\\site-packages (from requests->torchvision) (2022.12.7)\n",
      "Requirement already satisfied: charset-normalizer<4,>=2 in c:\\users\\moham\\appdata\\local\\programs\\python\\python38\\lib\\site-packages (from requests->torchvision) (3.1.0)\n",
      "Requirement already satisfied: urllib3<1.27,>=1.21.1 in c:\\users\\moham\\appdata\\local\\programs\\python\\python38\\lib\\site-packages (from requests->torchvision) (1.26.15)\n",
      "Requirement already satisfied: idna<4,>=2.5 in c:\\users\\moham\\appdata\\local\\programs\\python\\python38\\lib\\site-packages (from requests->torchvision) (3.4)\n"
     ]
    },
    {
     "name": "stderr",
     "output_type": "stream",
     "text": [
      "WARNING: You are using pip version 19.2.3, however version 23.1.1 is available.\n",
      "You should consider upgrading via the 'python -m pip install --upgrade pip' command.\n"
     ]
    }
   ],
   "source": [
    "!pip install torch torchvision torchaudio --index-url https://download.pytorch.org/whl/cu117"
   ]
  },
  {
   "cell_type": "code",
   "execution_count": 12,
   "id": "c6896a25-94fe-4d58-b4ab-6bd49134a9b1",
   "metadata": {
    "collapsed": true,
    "jupyter": {
     "outputs_hidden": true
    },
    "tags": []
   },
   "outputs": [
    {
     "name": "stdout",
     "output_type": "stream",
     "text": [
      "Requirement already satisfied: stable-baselines3[extra] in c:\\users\\moham\\appdata\\local\\programs\\python\\python38\\lib\\site-packages (1.8.0)\n",
      "Requirement already satisfied: matplotlib in c:\\users\\moham\\appdata\\local\\programs\\python\\python38\\lib\\site-packages (from stable-baselines3[extra]) (3.7.1)\n",
      "Requirement already satisfied: torch>=1.11 in c:\\users\\moham\\appdata\\local\\programs\\python\\python38\\lib\\site-packages (from stable-baselines3[extra]) (2.0.0+cu117)\n",
      "Requirement already satisfied: importlib-metadata~=4.13 in c:\\users\\moham\\appdata\\local\\programs\\python\\python38\\lib\\site-packages (from stable-baselines3[extra]) (4.13.0)\n",
      "Requirement already satisfied: gym==0.21 in c:\\users\\moham\\appdata\\local\\programs\\python\\python38\\lib\\site-packages (from stable-baselines3[extra]) (0.21.0)\n",
      "Requirement already satisfied: numpy in c:\\users\\moham\\appdata\\local\\programs\\python\\python38\\lib\\site-packages (from stable-baselines3[extra]) (1.24.3)\n",
      "Requirement already satisfied: cloudpickle in c:\\users\\moham\\appdata\\local\\programs\\python\\python38\\lib\\site-packages (from stable-baselines3[extra]) (2.2.1)\n",
      "Requirement already satisfied: pandas in c:\\users\\moham\\appdata\\local\\programs\\python\\python38\\lib\\site-packages (from stable-baselines3[extra]) (2.0.1)\n",
      "Requirement already satisfied: psutil; extra == \"extra\" in c:\\users\\moham\\appdata\\local\\programs\\python\\python38\\lib\\site-packages (from stable-baselines3[extra]) (5.9.5)\n",
      "Requirement already satisfied: pillow; extra == \"extra\" in c:\\users\\moham\\appdata\\local\\programs\\python\\python38\\lib\\site-packages (from stable-baselines3[extra]) (9.5.0)\n",
      "Requirement already satisfied: autorom[accept-rom-license]~=0.6.0; extra == \"extra\" in c:\\users\\moham\\appdata\\local\\programs\\python\\python38\\lib\\site-packages (from stable-baselines3[extra]) (0.6.1)\n",
      "Requirement already satisfied: tensorboard>=2.9.1; extra == \"extra\" in c:\\users\\moham\\appdata\\local\\programs\\python\\python38\\lib\\site-packages (from stable-baselines3[extra]) (2.12.2)\n",
      "Requirement already satisfied: opencv-python; extra == \"extra\" in c:\\users\\moham\\appdata\\local\\programs\\python\\python38\\lib\\site-packages (from stable-baselines3[extra]) (4.7.0.72)\n",
      "Requirement already satisfied: rich; extra == \"extra\" in c:\\users\\moham\\appdata\\local\\programs\\python\\python38\\lib\\site-packages (from stable-baselines3[extra]) (13.3.4)\n",
      "Requirement already satisfied: tqdm; extra == \"extra\" in c:\\users\\moham\\appdata\\local\\programs\\python\\python38\\lib\\site-packages (from stable-baselines3[extra]) (4.65.0)\n",
      "Requirement already satisfied: ale-py==0.7.4; extra == \"extra\" in c:\\users\\moham\\appdata\\local\\programs\\python\\python38\\lib\\site-packages (from stable-baselines3[extra]) (0.7.4)\n",
      "Requirement already satisfied: cycler>=0.10 in c:\\users\\moham\\appdata\\local\\programs\\python\\python38\\lib\\site-packages (from matplotlib->stable-baselines3[extra]) (0.11.0)\n",
      "Requirement already satisfied: importlib-resources>=3.2.0; python_version < \"3.10\" in c:\\users\\moham\\appdata\\local\\programs\\python\\python38\\lib\\site-packages (from matplotlib->stable-baselines3[extra]) (5.12.0)\n",
      "Requirement already satisfied: contourpy>=1.0.1 in c:\\users\\moham\\appdata\\local\\programs\\python\\python38\\lib\\site-packages (from matplotlib->stable-baselines3[extra]) (1.0.7)\n",
      "Requirement already satisfied: packaging>=20.0 in c:\\users\\moham\\appdata\\local\\programs\\python\\python38\\lib\\site-packages (from matplotlib->stable-baselines3[extra]) (23.1)\n",
      "Requirement already satisfied: pyparsing>=2.3.1 in c:\\users\\moham\\appdata\\local\\programs\\python\\python38\\lib\\site-packages (from matplotlib->stable-baselines3[extra]) (3.0.9)\n",
      "Requirement already satisfied: fonttools>=4.22.0 in c:\\users\\moham\\appdata\\local\\programs\\python\\python38\\lib\\site-packages (from matplotlib->stable-baselines3[extra]) (4.39.3)\n",
      "Requirement already satisfied: python-dateutil>=2.7 in c:\\users\\moham\\appdata\\local\\programs\\python\\python38\\lib\\site-packages (from matplotlib->stable-baselines3[extra]) (2.8.2)\n",
      "Requirement already satisfied: kiwisolver>=1.0.1 in c:\\users\\moham\\appdata\\local\\programs\\python\\python38\\lib\\site-packages (from matplotlib->stable-baselines3[extra]) (1.4.4)\n",
      "Requirement already satisfied: networkx in c:\\users\\moham\\appdata\\local\\programs\\python\\python38\\lib\\site-packages (from torch>=1.11->stable-baselines3[extra]) (3.0)\n",
      "Requirement already satisfied: sympy in c:\\users\\moham\\appdata\\local\\programs\\python\\python38\\lib\\site-packages (from torch>=1.11->stable-baselines3[extra]) (1.11.1)\n",
      "Requirement already satisfied: jinja2 in c:\\users\\moham\\appdata\\local\\programs\\python\\python38\\lib\\site-packages (from torch>=1.11->stable-baselines3[extra]) (3.1.2)\n",
      "Requirement already satisfied: filelock in c:\\users\\moham\\appdata\\local\\programs\\python\\python38\\lib\\site-packages (from torch>=1.11->stable-baselines3[extra]) (3.9.0)\n",
      "Requirement already satisfied: typing-extensions in c:\\users\\moham\\appdata\\local\\programs\\python\\python38\\lib\\site-packages (from torch>=1.11->stable-baselines3[extra]) (4.5.0)\n",
      "Requirement already satisfied: zipp>=0.5 in c:\\users\\moham\\appdata\\local\\programs\\python\\python38\\lib\\site-packages (from importlib-metadata~=4.13->stable-baselines3[extra]) (3.15.0)\n",
      "Requirement already satisfied: tzdata>=2022.1 in c:\\users\\moham\\appdata\\local\\programs\\python\\python38\\lib\\site-packages (from pandas->stable-baselines3[extra]) (2023.3)\n",
      "Requirement already satisfied: pytz>=2020.1 in c:\\users\\moham\\appdata\\local\\programs\\python\\python38\\lib\\site-packages (from pandas->stable-baselines3[extra]) (2023.3)\n",
      "Requirement already satisfied: requests in c:\\users\\moham\\appdata\\local\\programs\\python\\python38\\lib\\site-packages (from autorom[accept-rom-license]~=0.6.0; extra == \"extra\"->stable-baselines3[extra]) (2.29.0)\n",
      "Requirement already satisfied: click in c:\\users\\moham\\appdata\\local\\programs\\python\\python38\\lib\\site-packages (from autorom[accept-rom-license]~=0.6.0; extra == \"extra\"->stable-baselines3[extra]) (8.1.3)\n",
      "Requirement already satisfied: AutoROM.accept-rom-license; extra == \"accept-rom-license\" in c:\\users\\moham\\appdata\\local\\programs\\python\\python38\\lib\\site-packages (from autorom[accept-rom-license]~=0.6.0; extra == \"extra\"->stable-baselines3[extra]) (0.6.1)\n",
      "Requirement already satisfied: absl-py>=0.4 in c:\\users\\moham\\appdata\\local\\programs\\python\\python38\\lib\\site-packages (from tensorboard>=2.9.1; extra == \"extra\"->stable-baselines3[extra]) (1.4.0)\n",
      "Requirement already satisfied: google-auth-oauthlib<1.1,>=0.5 in c:\\users\\moham\\appdata\\local\\programs\\python\\python38\\lib\\site-packages (from tensorboard>=2.9.1; extra == \"extra\"->stable-baselines3[extra]) (1.0.0)\n",
      "Requirement already satisfied: setuptools>=41.0.0 in c:\\users\\moham\\appdata\\local\\programs\\python\\python38\\lib\\site-packages (from tensorboard>=2.9.1; extra == \"extra\"->stable-baselines3[extra]) (41.2.0)\n",
      "Requirement already satisfied: protobuf>=3.19.6 in c:\\users\\moham\\appdata\\local\\programs\\python\\python38\\lib\\site-packages (from tensorboard>=2.9.1; extra == \"extra\"->stable-baselines3[extra]) (4.22.3)\n",
      "Requirement already satisfied: werkzeug>=1.0.1 in c:\\users\\moham\\appdata\\local\\programs\\python\\python38\\lib\\site-packages (from tensorboard>=2.9.1; extra == \"extra\"->stable-baselines3[extra]) (2.3.0)\n",
      "Requirement already satisfied: google-auth<3,>=1.6.3 in c:\\users\\moham\\appdata\\local\\programs\\python\\python38\\lib\\site-packages (from tensorboard>=2.9.1; extra == \"extra\"->stable-baselines3[extra]) (2.17.3)\n",
      "Requirement already satisfied: wheel>=0.26 in c:\\users\\moham\\appdata\\local\\programs\\python\\python38\\lib\\site-packages (from tensorboard>=2.9.1; extra == \"extra\"->stable-baselines3[extra]) (0.40.0)\n",
      "Requirement already satisfied: markdown>=2.6.8 in c:\\users\\moham\\appdata\\local\\programs\\python\\python38\\lib\\site-packages (from tensorboard>=2.9.1; extra == \"extra\"->stable-baselines3[extra]) (3.4.3)\n",
      "Requirement already satisfied: tensorboard-plugin-wit>=1.6.0 in c:\\users\\moham\\appdata\\local\\programs\\python\\python38\\lib\\site-packages (from tensorboard>=2.9.1; extra == \"extra\"->stable-baselines3[extra]) (1.8.1)\n",
      "Requirement already satisfied: tensorboard-data-server<0.8.0,>=0.7.0 in c:\\users\\moham\\appdata\\local\\programs\\python\\python38\\lib\\site-packages (from tensorboard>=2.9.1; extra == \"extra\"->stable-baselines3[extra]) (0.7.0)\n",
      "Requirement already satisfied: grpcio>=1.48.2 in c:\\users\\moham\\appdata\\local\\programs\\python\\python38\\lib\\site-packages (from tensorboard>=2.9.1; extra == \"extra\"->stable-baselines3[extra]) (1.54.0)\n",
      "Requirement already satisfied: markdown-it-py<3.0.0,>=2.2.0 in c:\\users\\moham\\appdata\\local\\programs\\python\\python38\\lib\\site-packages (from rich; extra == \"extra\"->stable-baselines3[extra]) (2.2.0)\n",
      "Requirement already satisfied: pygments<3.0.0,>=2.13.0 in c:\\users\\moham\\appdata\\local\\programs\\python\\python38\\lib\\site-packages (from rich; extra == \"extra\"->stable-baselines3[extra]) (2.15.1)\n",
      "Requirement already satisfied: colorama; platform_system == \"Windows\" in c:\\users\\moham\\appdata\\local\\programs\\python\\python38\\lib\\site-packages (from tqdm; extra == \"extra\"->stable-baselines3[extra]) (0.4.6)\n",
      "Requirement already satisfied: six>=1.5 in c:\\users\\moham\\appdata\\local\\programs\\python\\python38\\lib\\site-packages (from python-dateutil>=2.7->matplotlib->stable-baselines3[extra]) (1.16.0)\n",
      "Requirement already satisfied: mpmath>=0.19 in c:\\users\\moham\\appdata\\local\\programs\\python\\python38\\lib\\site-packages (from sympy->torch>=1.11->stable-baselines3[extra]) (1.2.1)\n",
      "Requirement already satisfied: MarkupSafe>=2.0 in c:\\users\\moham\\appdata\\local\\programs\\python\\python38\\lib\\site-packages (from jinja2->torch>=1.11->stable-baselines3[extra]) (2.1.2)\n",
      "Requirement already satisfied: certifi>=2017.4.17 in c:\\users\\moham\\appdata\\local\\programs\\python\\python38\\lib\\site-packages (from requests->autorom[accept-rom-license]~=0.6.0; extra == \"extra\"->stable-baselines3[extra]) (2022.12.7)\n",
      "Requirement already satisfied: charset-normalizer<4,>=2 in c:\\users\\moham\\appdata\\local\\programs\\python\\python38\\lib\\site-packages (from requests->autorom[accept-rom-license]~=0.6.0; extra == \"extra\"->stable-baselines3[extra]) (3.1.0)\n",
      "Requirement already satisfied: urllib3<1.27,>=1.21.1 in c:\\users\\moham\\appdata\\local\\programs\\python\\python38\\lib\\site-packages (from requests->autorom[accept-rom-license]~=0.6.0; extra == \"extra\"->stable-baselines3[extra]) (1.26.15)\n",
      "Requirement already satisfied: idna<4,>=2.5 in c:\\users\\moham\\appdata\\local\\programs\\python\\python38\\lib\\site-packages (from requests->autorom[accept-rom-license]~=0.6.0; extra == \"extra\"->stable-baselines3[extra]) (3.4)\n",
      "Requirement already satisfied: requests-oauthlib>=0.7.0 in c:\\users\\moham\\appdata\\local\\programs\\python\\python38\\lib\\site-packages (from google-auth-oauthlib<1.1,>=0.5->tensorboard>=2.9.1; extra == \"extra\"->stable-baselines3[extra]) (1.3.1)\n",
      "Requirement already satisfied: cachetools<6.0,>=2.0.0 in c:\\users\\moham\\appdata\\local\\programs\\python\\python38\\lib\\site-packages (from google-auth<3,>=1.6.3->tensorboard>=2.9.1; extra == \"extra\"->stable-baselines3[extra]) (5.3.0)\n",
      "Requirement already satisfied: rsa<5,>=3.1.4; python_version >= \"3.6\" in c:\\users\\moham\\appdata\\local\\programs\\python\\python38\\lib\\site-packages (from google-auth<3,>=1.6.3->tensorboard>=2.9.1; extra == \"extra\"->stable-baselines3[extra]) (4.9)\n",
      "Requirement already satisfied: pyasn1-modules>=0.2.1 in c:\\users\\moham\\appdata\\local\\programs\\python\\python38\\lib\\site-packages (from google-auth<3,>=1.6.3->tensorboard>=2.9.1; extra == \"extra\"->stable-baselines3[extra]) (0.3.0)\n",
      "Requirement already satisfied: mdurl~=0.1 in c:\\users\\moham\\appdata\\local\\programs\\python\\python38\\lib\\site-packages (from markdown-it-py<3.0.0,>=2.2.0->rich; extra == \"extra\"->stable-baselines3[extra]) (0.1.2)\n",
      "Requirement already satisfied: oauthlib>=3.0.0 in c:\\users\\moham\\appdata\\local\\programs\\python\\python38\\lib\\site-packages (from requests-oauthlib>=0.7.0->google-auth-oauthlib<1.1,>=0.5->tensorboard>=2.9.1; extra == \"extra\"->stable-baselines3[extra]) (3.2.2)\n",
      "Requirement already satisfied: pyasn1>=0.1.3 in c:\\users\\moham\\appdata\\local\\programs\\python\\python38\\lib\\site-packages (from rsa<5,>=3.1.4; python_version >= \"3.6\"->google-auth<3,>=1.6.3->tensorboard>=2.9.1; extra == \"extra\"->stable-baselines3[extra]) (0.5.0)\n"
     ]
    },
    {
     "name": "stderr",
     "output_type": "stream",
     "text": [
      "WARNING: You are using pip version 19.2.3, however version 23.1.1 is available.\n",
      "You should consider upgrading via the 'python -m pip install --upgrade pip' command.\n"
     ]
    }
   ],
   "source": [
    "!pip install stable-baselines3[extra]"
   ]
  },
  {
   "cell_type": "code",
   "execution_count": 13,
   "id": "d7591c06-e1c1-4fa6-8664-a5c8bfa6bcbe",
   "metadata": {
    "tags": []
   },
   "outputs": [],
   "source": [
    "# Import os for file navigation\n",
    "import os\n",
    "# Import callback class from stable baselines 3\n",
    "from stable_baselines3.common.callbacks import BaseCallback"
   ]
  },
  {
   "cell_type": "code",
   "execution_count": 14,
   "id": "e0242c4f-0ef5-438b-aa80-39ced1dbe050",
   "metadata": {
    "tags": []
   },
   "outputs": [],
   "source": [
    "class TrainAndLoggingCallback(BaseCallback):\n",
    "    \n",
    "    def __init__(self, check_freq, save_path, verbose=1):\n",
    "        super(TrainAndLoggingCallback, self).__init__(verbose)\n",
    "        self.check_freq = check_freq\n",
    "        self.save_path = save_path\n",
    "        \n",
    "    def _init_callback(self):\n",
    "        if self.save_path is not None:\n",
    "            os.makedirs(self.save_path, exist_ok=True)\n",
    "    \n",
    "    def _on_step(self):\n",
    "        if self.n_calls % self.check_freq == 0:\n",
    "            model_path = os.path.join(self.save_path, 'best_model_{}'.format(self.n_calls))\n",
    "            self.model.save(model_path)\n",
    "            \n",
    "        return True"
   ]
  },
  {
   "cell_type": "code",
   "execution_count": 15,
   "id": "aa3ff888-d59f-4895-94b5-f56c11c1e759",
   "metadata": {
    "tags": []
   },
   "outputs": [],
   "source": [
    "CHECKPOINT_DIR = './train/train_basic'\n",
    "LOG_DIR = './logs/log_basic'"
   ]
  },
  {
   "cell_type": "code",
   "execution_count": 16,
   "id": "be35ef98-40ae-44c9-a5aa-791bf49baa57",
   "metadata": {
    "tags": []
   },
   "outputs": [],
   "source": [
    "callback = TrainAndLoggingCallback(check_freq=10000, save_path=CHECKPOINT_DIR)"
   ]
  },
  {
   "cell_type": "markdown",
   "id": "9ae3e0ee-3b14-47fb-b380-c215d5f51484",
   "metadata": {},
   "source": [
    "# 5. Train Model"
   ]
  },
  {
   "cell_type": "code",
   "execution_count": 16,
   "id": "6137cab1-18c1-44cb-a43f-2dc3d4b27ef7",
   "metadata": {
    "tags": []
   },
   "outputs": [],
   "source": [
    "# Import the PPO algorithm for training\n",
    "from stable_baselines3 import PPO"
   ]
  },
  {
   "cell_type": "code",
   "execution_count": 17,
   "id": "931f1e85-6d8d-4549-aa47-ed08293f6161",
   "metadata": {
    "tags": []
   },
   "outputs": [],
   "source": [
    "env = VizDoomGym()"
   ]
  },
  {
   "cell_type": "code",
   "execution_count": 21,
   "id": "341faec1-c18f-4df6-a627-640438a978a5",
   "metadata": {
    "tags": []
   },
   "outputs": [
    {
     "name": "stdout",
     "output_type": "stream",
     "text": [
      "Using cuda device\n",
      "Wrapping the env with a `Monitor` wrapper\n",
      "Wrapping the env in a DummyVecEnv.\n",
      "Wrapping the env in a VecTransposeImage.\n"
     ]
    }
   ],
   "source": [
    "# CnnPolicy because we are passing in an image\n",
    "# Cnn = Convolution neural network\n",
    "model = PPO('CnnPolicy', env, tensorboard_log=LOG_DIR, verbose=1, learning_rate=0.0001, n_steps=2048)"
   ]
  },
  {
   "cell_type": "code",
   "execution_count": 22,
   "id": "d5c0d31f-71b7-44cc-bae6-bf5f0dc9a9f0",
   "metadata": {
    "collapsed": true,
    "jupyter": {
     "outputs_hidden": true
    },
    "scrolled": true,
    "tags": []
   },
   "outputs": [
    {
     "name": "stdout",
     "output_type": "stream",
     "text": [
      "Logging to ./logs/log_basic\\PPO_3\n",
      "---------------------------------\n",
      "| rollout/           |          |\n",
      "|    ep_len_mean     | 31.6     |\n",
      "|    ep_rew_mean     | -78.9    |\n",
      "| time/              |          |\n",
      "|    fps             | 37       |\n",
      "|    iterations      | 1        |\n",
      "|    time_elapsed    | 55       |\n",
      "|    total_timesteps | 2048     |\n",
      "---------------------------------\n",
      "-----------------------------------------\n",
      "| rollout/                |             |\n",
      "|    ep_len_mean          | 34.4        |\n",
      "|    ep_rew_mean          | -95.2       |\n",
      "| time/                   |             |\n",
      "|    fps                  | 35          |\n",
      "|    iterations           | 2           |\n",
      "|    time_elapsed         | 115         |\n",
      "|    total_timesteps      | 4096        |\n",
      "| train/                  |             |\n",
      "|    approx_kl            | 0.003975576 |\n",
      "|    clip_fraction        | 0.137       |\n",
      "|    clip_range           | 0.2         |\n",
      "|    entropy_loss         | -1.09       |\n",
      "|    explained_variance   | -0.00016    |\n",
      "|    learning_rate        | 0.0001      |\n",
      "|    loss                 | 1.12e+03    |\n",
      "|    n_updates            | 10          |\n",
      "|    policy_gradient_loss | 0.00346     |\n",
      "|    value_loss           | 2.61e+03    |\n",
      "-----------------------------------------\n",
      "-----------------------------------------\n",
      "| rollout/                |             |\n",
      "|    ep_len_mean          | 33          |\n",
      "|    ep_rew_mean          | -84.6       |\n",
      "| time/                   |             |\n",
      "|    fps                  | 36          |\n",
      "|    iterations           | 3           |\n",
      "|    time_elapsed         | 166         |\n",
      "|    total_timesteps      | 6144        |\n",
      "| train/                  |             |\n",
      "|    approx_kl            | 0.006572965 |\n",
      "|    clip_fraction        | 0.0884      |\n",
      "|    clip_range           | 0.2         |\n",
      "|    entropy_loss         | -1.09       |\n",
      "|    explained_variance   | 0.11        |\n",
      "|    learning_rate        | 0.0001      |\n",
      "|    loss                 | 1.92e+03    |\n",
      "|    n_updates            | 20          |\n",
      "|    policy_gradient_loss | -0.00262    |\n",
      "|    value_loss           | 3.54e+03    |\n",
      "-----------------------------------------\n",
      "-----------------------------------------\n",
      "| rollout/                |             |\n",
      "|    ep_len_mean          | 31.5        |\n",
      "|    ep_rew_mean          | -77.8       |\n",
      "| time/                   |             |\n",
      "|    fps                  | 37          |\n",
      "|    iterations           | 4           |\n",
      "|    time_elapsed         | 217         |\n",
      "|    total_timesteps      | 8192        |\n",
      "| train/                  |             |\n",
      "|    approx_kl            | 0.013786175 |\n",
      "|    clip_fraction        | 0.155       |\n",
      "|    clip_range           | 0.2         |\n",
      "|    entropy_loss         | -1.09       |\n",
      "|    explained_variance   | 0.211       |\n",
      "|    learning_rate        | 0.0001      |\n",
      "|    loss                 | 1.59e+03    |\n",
      "|    n_updates            | 30          |\n",
      "|    policy_gradient_loss | -0.00428    |\n",
      "|    value_loss           | 3.34e+03    |\n",
      "-----------------------------------------\n",
      "----------------------------------------\n",
      "| rollout/                |            |\n",
      "|    ep_len_mean          | 23.4       |\n",
      "|    ep_rew_mean          | -28.5      |\n",
      "| time/                   |            |\n",
      "|    fps                  | 38         |\n",
      "|    iterations           | 5          |\n",
      "|    time_elapsed         | 265        |\n",
      "|    total_timesteps      | 10240      |\n",
      "| train/                  |            |\n",
      "|    approx_kl            | 0.01103468 |\n",
      "|    clip_fraction        | 0.231      |\n",
      "|    clip_range           | 0.2        |\n",
      "|    entropy_loss         | -1.08      |\n",
      "|    explained_variance   | 0.351      |\n",
      "|    learning_rate        | 0.0001     |\n",
      "|    loss                 | 1.12e+03   |\n",
      "|    n_updates            | 40         |\n",
      "|    policy_gradient_loss | 0.00102    |\n",
      "|    value_loss           | 3.34e+03   |\n",
      "----------------------------------------\n",
      "-----------------------------------------\n",
      "| rollout/                |             |\n",
      "|    ep_len_mean          | 23.8        |\n",
      "|    ep_rew_mean          | -35         |\n",
      "| time/                   |             |\n",
      "|    fps                  | 38          |\n",
      "|    iterations           | 6           |\n",
      "|    time_elapsed         | 319         |\n",
      "|    total_timesteps      | 12288       |\n",
      "| train/                  |             |\n",
      "|    approx_kl            | 0.016738363 |\n",
      "|    clip_fraction        | 0.29        |\n",
      "|    clip_range           | 0.2         |\n",
      "|    entropy_loss         | -1.05       |\n",
      "|    explained_variance   | 0.48        |\n",
      "|    learning_rate        | 0.0001      |\n",
      "|    loss                 | 2.63e+03    |\n",
      "|    n_updates            | 50          |\n",
      "|    policy_gradient_loss | 0.00378     |\n",
      "|    value_loss           | 3.5e+03     |\n",
      "-----------------------------------------\n",
      "-----------------------------------------\n",
      "| rollout/                |             |\n",
      "|    ep_len_mean          | 21.6        |\n",
      "|    ep_rew_mean          | -21.5       |\n",
      "| time/                   |             |\n",
      "|    fps                  | 38          |\n",
      "|    iterations           | 7           |\n",
      "|    time_elapsed         | 372         |\n",
      "|    total_timesteps      | 14336       |\n",
      "| train/                  |             |\n",
      "|    approx_kl            | 0.008100733 |\n",
      "|    clip_fraction        | 0.266       |\n",
      "|    clip_range           | 0.2         |\n",
      "|    entropy_loss         | -1.04       |\n",
      "|    explained_variance   | 0.496       |\n",
      "|    learning_rate        | 0.0001      |\n",
      "|    loss                 | 1.69e+03    |\n",
      "|    n_updates            | 60          |\n",
      "|    policy_gradient_loss | 0.00436     |\n",
      "|    value_loss           | 3.65e+03    |\n",
      "-----------------------------------------\n",
      "-----------------------------------------\n",
      "| rollout/                |             |\n",
      "|    ep_len_mean          | 19.1        |\n",
      "|    ep_rew_mean          | -8.78       |\n",
      "| time/                   |             |\n",
      "|    fps                  | 38          |\n",
      "|    iterations           | 8           |\n",
      "|    time_elapsed         | 420         |\n",
      "|    total_timesteps      | 16384       |\n",
      "| train/                  |             |\n",
      "|    approx_kl            | 0.010291305 |\n",
      "|    clip_fraction        | 0.244       |\n",
      "|    clip_range           | 0.2         |\n",
      "|    entropy_loss         | -1.01       |\n",
      "|    explained_variance   | 0.607       |\n",
      "|    learning_rate        | 0.0001      |\n",
      "|    loss                 | 1.85e+03    |\n",
      "|    n_updates            | 70          |\n",
      "|    policy_gradient_loss | 0.00279     |\n",
      "|    value_loss           | 3.35e+03    |\n",
      "-----------------------------------------\n",
      "-----------------------------------------\n",
      "| rollout/                |             |\n",
      "|    ep_len_mean          | 23.3        |\n",
      "|    ep_rew_mean          | -33.2       |\n",
      "| time/                   |             |\n",
      "|    fps                  | 38          |\n",
      "|    iterations           | 9           |\n",
      "|    time_elapsed         | 474         |\n",
      "|    total_timesteps      | 18432       |\n",
      "| train/                  |             |\n",
      "|    approx_kl            | 0.021528775 |\n",
      "|    clip_fraction        | 0.266       |\n",
      "|    clip_range           | 0.2         |\n",
      "|    entropy_loss         | -0.943      |\n",
      "|    explained_variance   | 0.705       |\n",
      "|    learning_rate        | 0.0001      |\n",
      "|    loss                 | 1.68e+03    |\n",
      "|    n_updates            | 80          |\n",
      "|    policy_gradient_loss | 0.00703     |\n",
      "|    value_loss           | 2.91e+03    |\n",
      "-----------------------------------------\n",
      "----------------------------------------\n",
      "| rollout/                |            |\n",
      "|    ep_len_mean          | 21.1       |\n",
      "|    ep_rew_mean          | -19.1      |\n",
      "| time/                   |            |\n",
      "|    fps                  | 39         |\n",
      "|    iterations           | 10         |\n",
      "|    time_elapsed         | 522        |\n",
      "|    total_timesteps      | 20480      |\n",
      "| train/                  |            |\n",
      "|    approx_kl            | 0.02880048 |\n",
      "|    clip_fraction        | 0.285      |\n",
      "|    clip_range           | 0.2        |\n",
      "|    entropy_loss         | -0.915     |\n",
      "|    explained_variance   | 0.689      |\n",
      "|    learning_rate        | 0.0001     |\n",
      "|    loss                 | 1.28e+03   |\n",
      "|    n_updates            | 90         |\n",
      "|    policy_gradient_loss | 0.00997    |\n",
      "|    value_loss           | 2.85e+03   |\n",
      "----------------------------------------\n",
      "----------------------------------------\n",
      "| rollout/                |            |\n",
      "|    ep_len_mean          | 14.3       |\n",
      "|    ep_rew_mean          | 23.1       |\n",
      "| time/                   |            |\n",
      "|    fps                  | 39         |\n",
      "|    iterations           | 11         |\n",
      "|    time_elapsed         | 575        |\n",
      "|    total_timesteps      | 22528      |\n",
      "| train/                  |            |\n",
      "|    approx_kl            | 0.01724915 |\n",
      "|    clip_fraction        | 0.118      |\n",
      "|    clip_range           | 0.2        |\n",
      "|    entropy_loss         | -0.791     |\n",
      "|    explained_variance   | 0.737      |\n",
      "|    learning_rate        | 0.0001     |\n",
      "|    loss                 | 1.23e+03   |\n",
      "|    n_updates            | 100        |\n",
      "|    policy_gradient_loss | 0.00345    |\n",
      "|    value_loss           | 2.39e+03   |\n",
      "----------------------------------------\n",
      "-----------------------------------------\n",
      "| rollout/                |             |\n",
      "|    ep_len_mean          | 21.6        |\n",
      "|    ep_rew_mean          | -22.5       |\n",
      "| time/                   |             |\n",
      "|    fps                  | 38          |\n",
      "|    iterations           | 12          |\n",
      "|    time_elapsed         | 632         |\n",
      "|    total_timesteps      | 24576       |\n",
      "| train/                  |             |\n",
      "|    approx_kl            | 0.058799855 |\n",
      "|    clip_fraction        | 0.178       |\n",
      "|    clip_range           | 0.2         |\n",
      "|    entropy_loss         | -0.709      |\n",
      "|    explained_variance   | 0.829       |\n",
      "|    learning_rate        | 0.0001      |\n",
      "|    loss                 | 943         |\n",
      "|    n_updates            | 110         |\n",
      "|    policy_gradient_loss | 0.00488     |\n",
      "|    value_loss           | 1.91e+03    |\n",
      "-----------------------------------------\n",
      "----------------------------------------\n",
      "| rollout/                |            |\n",
      "|    ep_len_mean          | 25.1       |\n",
      "|    ep_rew_mean          | -46.6      |\n",
      "| time/                   |            |\n",
      "|    fps                  | 39         |\n",
      "|    iterations           | 13         |\n",
      "|    time_elapsed         | 682        |\n",
      "|    total_timesteps      | 26624      |\n",
      "| train/                  |            |\n",
      "|    approx_kl            | 0.02432717 |\n",
      "|    clip_fraction        | 0.139      |\n",
      "|    clip_range           | 0.2        |\n",
      "|    entropy_loss         | -0.661     |\n",
      "|    explained_variance   | 0.677      |\n",
      "|    learning_rate        | 0.0001     |\n",
      "|    loss                 | 2e+03      |\n",
      "|    n_updates            | 120        |\n",
      "|    policy_gradient_loss | 0.00436    |\n",
      "|    value_loss           | 3.26e+03   |\n",
      "----------------------------------------\n",
      "----------------------------------------\n",
      "| rollout/                |            |\n",
      "|    ep_len_mean          | 21.4       |\n",
      "|    ep_rew_mean          | -14.9      |\n",
      "| time/                   |            |\n",
      "|    fps                  | 39         |\n",
      "|    iterations           | 14         |\n",
      "|    time_elapsed         | 733        |\n",
      "|    total_timesteps      | 28672      |\n",
      "| train/                  |            |\n",
      "|    approx_kl            | 0.02679664 |\n",
      "|    clip_fraction        | 0.19       |\n",
      "|    clip_range           | 0.2        |\n",
      "|    entropy_loss         | -0.757     |\n",
      "|    explained_variance   | 0.739      |\n",
      "|    learning_rate        | 0.0001     |\n",
      "|    loss                 | 755        |\n",
      "|    n_updates            | 130        |\n",
      "|    policy_gradient_loss | 0.00857    |\n",
      "|    value_loss           | 2.27e+03   |\n",
      "----------------------------------------\n",
      "-----------------------------------------\n",
      "| rollout/                |             |\n",
      "|    ep_len_mean          | 23.6        |\n",
      "|    ep_rew_mean          | -29.1       |\n",
      "| time/                   |             |\n",
      "|    fps                  | 39          |\n",
      "|    iterations           | 15          |\n",
      "|    time_elapsed         | 784         |\n",
      "|    total_timesteps      | 30720       |\n",
      "| train/                  |             |\n",
      "|    approx_kl            | 0.012893944 |\n",
      "|    clip_fraction        | 0.11        |\n",
      "|    clip_range           | 0.2         |\n",
      "|    entropy_loss         | -0.547      |\n",
      "|    explained_variance   | 0.713       |\n",
      "|    learning_rate        | 0.0001      |\n",
      "|    loss                 | 1.77e+03    |\n",
      "|    n_updates            | 140         |\n",
      "|    policy_gradient_loss | 0.00392     |\n",
      "|    value_loss           | 3.41e+03    |\n",
      "-----------------------------------------\n",
      "-----------------------------------------\n",
      "| rollout/                |             |\n",
      "|    ep_len_mean          | 24.5        |\n",
      "|    ep_rew_mean          | -34.2       |\n",
      "| time/                   |             |\n",
      "|    fps                  | 39          |\n",
      "|    iterations           | 16          |\n",
      "|    time_elapsed         | 833         |\n",
      "|    total_timesteps      | 32768       |\n",
      "| train/                  |             |\n",
      "|    approx_kl            | 0.035168037 |\n",
      "|    clip_fraction        | 0.0912      |\n",
      "|    clip_range           | 0.2         |\n",
      "|    entropy_loss         | -0.502      |\n",
      "|    explained_variance   | 0.706       |\n",
      "|    learning_rate        | 0.0001      |\n",
      "|    loss                 | 1.59e+03    |\n",
      "|    n_updates            | 150         |\n",
      "|    policy_gradient_loss | 0.00418     |\n",
      "|    value_loss           | 2.52e+03    |\n",
      "-----------------------------------------\n",
      "----------------------------------------\n",
      "| rollout/                |            |\n",
      "|    ep_len_mean          | 22.2       |\n",
      "|    ep_rew_mean          | -22        |\n",
      "| time/                   |            |\n",
      "|    fps                  | 39         |\n",
      "|    iterations           | 17         |\n",
      "|    time_elapsed         | 885        |\n",
      "|    total_timesteps      | 34816      |\n",
      "| train/                  |            |\n",
      "|    approx_kl            | 0.02042514 |\n",
      "|    clip_fraction        | 0.11       |\n",
      "|    clip_range           | 0.2        |\n",
      "|    entropy_loss         | -0.546     |\n",
      "|    explained_variance   | 0.662      |\n",
      "|    learning_rate        | 0.0001     |\n",
      "|    loss                 | 1.33e+03   |\n",
      "|    n_updates            | 160        |\n",
      "|    policy_gradient_loss | 0.00591    |\n",
      "|    value_loss           | 2.69e+03   |\n",
      "----------------------------------------\n",
      "-----------------------------------------\n",
      "| rollout/                |             |\n",
      "|    ep_len_mean          | 25.7        |\n",
      "|    ep_rew_mean          | -39.8       |\n",
      "| time/                   |             |\n",
      "|    fps                  | 39          |\n",
      "|    iterations           | 18          |\n",
      "|    time_elapsed         | 931         |\n",
      "|    total_timesteps      | 36864       |\n",
      "| train/                  |             |\n",
      "|    approx_kl            | 0.011499023 |\n",
      "|    clip_fraction        | 0.149       |\n",
      "|    clip_range           | 0.2         |\n",
      "|    entropy_loss         | -0.541      |\n",
      "|    explained_variance   | 0.676       |\n",
      "|    learning_rate        | 0.0001      |\n",
      "|    loss                 | 1.33e+03    |\n",
      "|    n_updates            | 170         |\n",
      "|    policy_gradient_loss | 0.00832     |\n",
      "|    value_loss           | 2.41e+03    |\n",
      "-----------------------------------------\n",
      "----------------------------------------\n",
      "| rollout/                |            |\n",
      "|    ep_len_mean          | 15.5       |\n",
      "|    ep_rew_mean          | 18.1       |\n",
      "| time/                   |            |\n",
      "|    fps                  | 39         |\n",
      "|    iterations           | 19         |\n",
      "|    time_elapsed         | 985        |\n",
      "|    total_timesteps      | 38912      |\n",
      "| train/                  |            |\n",
      "|    approx_kl            | 0.04562846 |\n",
      "|    clip_fraction        | 0.104      |\n",
      "|    clip_range           | 0.2        |\n",
      "|    entropy_loss         | -0.502     |\n",
      "|    explained_variance   | 0.686      |\n",
      "|    learning_rate        | 0.0001     |\n",
      "|    loss                 | 1.42e+03   |\n",
      "|    n_updates            | 180        |\n",
      "|    policy_gradient_loss | 0.0081     |\n",
      "|    value_loss           | 2.06e+03   |\n",
      "----------------------------------------\n",
      "-----------------------------------------\n",
      "| rollout/                |             |\n",
      "|    ep_len_mean          | 17          |\n",
      "|    ep_rew_mean          | 11.1        |\n",
      "| time/                   |             |\n",
      "|    fps                  | 39          |\n",
      "|    iterations           | 20          |\n",
      "|    time_elapsed         | 1037        |\n",
      "|    total_timesteps      | 40960       |\n",
      "| train/                  |             |\n",
      "|    approx_kl            | 0.008391241 |\n",
      "|    clip_fraction        | 0.165       |\n",
      "|    clip_range           | 0.2         |\n",
      "|    entropy_loss         | -0.602      |\n",
      "|    explained_variance   | 0.789       |\n",
      "|    learning_rate        | 0.0001      |\n",
      "|    loss                 | 1.16e+03    |\n",
      "|    n_updates            | 190         |\n",
      "|    policy_gradient_loss | 0.012       |\n",
      "|    value_loss           | 1.86e+03    |\n",
      "-----------------------------------------\n",
      "-----------------------------------------\n",
      "| rollout/                |             |\n",
      "|    ep_len_mean          | 21.4        |\n",
      "|    ep_rew_mean          | -15.9       |\n",
      "| time/                   |             |\n",
      "|    fps                  | 39          |\n",
      "|    iterations           | 21          |\n",
      "|    time_elapsed         | 1087        |\n",
      "|    total_timesteps      | 43008       |\n",
      "| train/                  |             |\n",
      "|    approx_kl            | 0.018204223 |\n",
      "|    clip_fraction        | 0.128       |\n",
      "|    clip_range           | 0.2         |\n",
      "|    entropy_loss         | -0.621      |\n",
      "|    explained_variance   | 0.814       |\n",
      "|    learning_rate        | 0.0001      |\n",
      "|    loss                 | 735         |\n",
      "|    n_updates            | 200         |\n",
      "|    policy_gradient_loss | 0.00242     |\n",
      "|    value_loss           | 1.82e+03    |\n",
      "-----------------------------------------\n",
      "----------------------------------------\n",
      "| rollout/                |            |\n",
      "|    ep_len_mean          | 16.4       |\n",
      "|    ep_rew_mean          | 16.8       |\n",
      "| time/                   |            |\n",
      "|    fps                  | 39         |\n",
      "|    iterations           | 22         |\n",
      "|    time_elapsed         | 1139       |\n",
      "|    total_timesteps      | 45056      |\n",
      "| train/                  |            |\n",
      "|    approx_kl            | 0.04844695 |\n",
      "|    clip_fraction        | 0.16       |\n",
      "|    clip_range           | 0.2        |\n",
      "|    entropy_loss         | -0.705     |\n",
      "|    explained_variance   | 0.625      |\n",
      "|    learning_rate        | 0.0001     |\n",
      "|    loss                 | 1.23e+03   |\n",
      "|    n_updates            | 210        |\n",
      "|    policy_gradient_loss | 0.00888    |\n",
      "|    value_loss           | 2.91e+03   |\n",
      "----------------------------------------\n",
      "-----------------------------------------\n",
      "| rollout/                |             |\n",
      "|    ep_len_mean          | 18          |\n",
      "|    ep_rew_mean          | 7.86        |\n",
      "| time/                   |             |\n",
      "|    fps                  | 39          |\n",
      "|    iterations           | 23          |\n",
      "|    time_elapsed         | 1187        |\n",
      "|    total_timesteps      | 47104       |\n",
      "| train/                  |             |\n",
      "|    approx_kl            | 0.016472386 |\n",
      "|    clip_fraction        | 0.121       |\n",
      "|    clip_range           | 0.2         |\n",
      "|    entropy_loss         | -0.509      |\n",
      "|    explained_variance   | 0.813       |\n",
      "|    learning_rate        | 0.0001      |\n",
      "|    loss                 | 1.32e+03    |\n",
      "|    n_updates            | 220         |\n",
      "|    policy_gradient_loss | 0.00312     |\n",
      "|    value_loss           | 2.22e+03    |\n",
      "-----------------------------------------\n",
      "-----------------------------------------\n",
      "| rollout/                |             |\n",
      "|    ep_len_mean          | 19.4        |\n",
      "|    ep_rew_mean          | -0.68       |\n",
      "| time/                   |             |\n",
      "|    fps                  | 39          |\n",
      "|    iterations           | 24          |\n",
      "|    time_elapsed         | 1241        |\n",
      "|    total_timesteps      | 49152       |\n",
      "| train/                  |             |\n",
      "|    approx_kl            | 0.016088963 |\n",
      "|    clip_fraction        | 0.113       |\n",
      "|    clip_range           | 0.2         |\n",
      "|    entropy_loss         | -0.502      |\n",
      "|    explained_variance   | 0.798       |\n",
      "|    learning_rate        | 0.0001      |\n",
      "|    loss                 | 697         |\n",
      "|    n_updates            | 230         |\n",
      "|    policy_gradient_loss | 0.00844     |\n",
      "|    value_loss           | 2.4e+03     |\n",
      "-----------------------------------------\n",
      "-----------------------------------------\n",
      "| rollout/                |             |\n",
      "|    ep_len_mean          | 15.8        |\n",
      "|    ep_rew_mean          | 23.6        |\n",
      "| time/                   |             |\n",
      "|    fps                  | 39          |\n",
      "|    iterations           | 25          |\n",
      "|    time_elapsed         | 1287        |\n",
      "|    total_timesteps      | 51200       |\n",
      "| train/                  |             |\n",
      "|    approx_kl            | 0.014997381 |\n",
      "|    clip_fraction        | 0.12        |\n",
      "|    clip_range           | 0.2         |\n",
      "|    entropy_loss         | -0.543      |\n",
      "|    explained_variance   | 0.76        |\n",
      "|    learning_rate        | 0.0001      |\n",
      "|    loss                 | 1.44e+03    |\n",
      "|    n_updates            | 240         |\n",
      "|    policy_gradient_loss | 0.00696     |\n",
      "|    value_loss           | 1.88e+03    |\n",
      "-----------------------------------------\n",
      "-----------------------------------------\n",
      "| rollout/                |             |\n",
      "|    ep_len_mean          | 10.4        |\n",
      "|    ep_rew_mean          | 51.5        |\n",
      "| time/                   |             |\n",
      "|    fps                  | 39          |\n",
      "|    iterations           | 26          |\n",
      "|    time_elapsed         | 1341        |\n",
      "|    total_timesteps      | 53248       |\n",
      "| train/                  |             |\n",
      "|    approx_kl            | 0.011277778 |\n",
      "|    clip_fraction        | 0.142       |\n",
      "|    clip_range           | 0.2         |\n",
      "|    entropy_loss         | -0.547      |\n",
      "|    explained_variance   | 0.771       |\n",
      "|    learning_rate        | 0.0001      |\n",
      "|    loss                 | 1.86e+03    |\n",
      "|    n_updates            | 250         |\n",
      "|    policy_gradient_loss | -0.00349    |\n",
      "|    value_loss           | 3e+03       |\n",
      "-----------------------------------------\n",
      "-----------------------------------------\n",
      "| rollout/                |             |\n",
      "|    ep_len_mean          | 7.22        |\n",
      "|    ep_rew_mean          | 69.8        |\n",
      "| time/                   |             |\n",
      "|    fps                  | 39          |\n",
      "|    iterations           | 27          |\n",
      "|    time_elapsed         | 1399        |\n",
      "|    total_timesteps      | 55296       |\n",
      "| train/                  |             |\n",
      "|    approx_kl            | 0.024119776 |\n",
      "|    clip_fraction        | 0.182       |\n",
      "|    clip_range           | 0.2         |\n",
      "|    entropy_loss         | -0.54       |\n",
      "|    explained_variance   | 0.811       |\n",
      "|    learning_rate        | 0.0001      |\n",
      "|    loss                 | 1.82e+03    |\n",
      "|    n_updates            | 260         |\n",
      "|    policy_gradient_loss | -0.000221   |\n",
      "|    value_loss           | 2.61e+03    |\n",
      "-----------------------------------------\n",
      "-----------------------------------------\n",
      "| rollout/                |             |\n",
      "|    ep_len_mean          | 5.87        |\n",
      "|    ep_rew_mean          | 77.4        |\n",
      "| time/                   |             |\n",
      "|    fps                  | 39          |\n",
      "|    iterations           | 28          |\n",
      "|    time_elapsed         | 1459        |\n",
      "|    total_timesteps      | 57344       |\n",
      "| train/                  |             |\n",
      "|    approx_kl            | 0.033141382 |\n",
      "|    clip_fraction        | 0.271       |\n",
      "|    clip_range           | 0.2         |\n",
      "|    entropy_loss         | -0.701      |\n",
      "|    explained_variance   | 0.537       |\n",
      "|    learning_rate        | 0.0001      |\n",
      "|    loss                 | 350         |\n",
      "|    n_updates            | 270         |\n",
      "|    policy_gradient_loss | -0.000295   |\n",
      "|    value_loss           | 1.17e+03    |\n",
      "-----------------------------------------\n",
      "-----------------------------------------\n",
      "| rollout/                |             |\n",
      "|    ep_len_mean          | 5.95        |\n",
      "|    ep_rew_mean          | 76.9        |\n",
      "| time/                   |             |\n",
      "|    fps                  | 39          |\n",
      "|    iterations           | 29          |\n",
      "|    time_elapsed         | 1514        |\n",
      "|    total_timesteps      | 59392       |\n",
      "| train/                  |             |\n",
      "|    approx_kl            | 0.067644216 |\n",
      "|    clip_fraction        | 0.32        |\n",
      "|    clip_range           | 0.2         |\n",
      "|    entropy_loss         | -0.575      |\n",
      "|    explained_variance   | 0.205       |\n",
      "|    learning_rate        | 0.0001      |\n",
      "|    loss                 | 82.5        |\n",
      "|    n_updates            | 280         |\n",
      "|    policy_gradient_loss | 0.0151      |\n",
      "|    value_loss           | 242         |\n",
      "-----------------------------------------\n",
      "----------------------------------------\n",
      "| rollout/                |            |\n",
      "|    ep_len_mean          | 4.49       |\n",
      "|    ep_rew_mean          | 84.5       |\n",
      "| time/                   |            |\n",
      "|    fps                  | 39         |\n",
      "|    iterations           | 30         |\n",
      "|    time_elapsed         | 1574       |\n",
      "|    total_timesteps      | 61440      |\n",
      "| train/                  |            |\n",
      "|    approx_kl            | 0.08393566 |\n",
      "|    clip_fraction        | 0.266      |\n",
      "|    clip_range           | 0.2        |\n",
      "|    entropy_loss         | -0.424     |\n",
      "|    explained_variance   | 0.577      |\n",
      "|    learning_rate        | 0.0001     |\n",
      "|    loss                 | 70.2       |\n",
      "|    n_updates            | 290        |\n",
      "|    policy_gradient_loss | 0.0127     |\n",
      "|    value_loss           | 222        |\n",
      "----------------------------------------\n",
      "-----------------------------------------\n",
      "| rollout/                |             |\n",
      "|    ep_len_mean          | 5.08        |\n",
      "|    ep_rew_mean          | 82          |\n",
      "| time/                   |             |\n",
      "|    fps                  | 38          |\n",
      "|    iterations           | 31          |\n",
      "|    time_elapsed         | 1632        |\n",
      "|    total_timesteps      | 63488       |\n",
      "| train/                  |             |\n",
      "|    approx_kl            | 0.042019658 |\n",
      "|    clip_fraction        | 0.206       |\n",
      "|    clip_range           | 0.2         |\n",
      "|    entropy_loss         | -0.427      |\n",
      "|    explained_variance   | 0.401       |\n",
      "|    learning_rate        | 0.0001      |\n",
      "|    loss                 | 138         |\n",
      "|    n_updates            | 300         |\n",
      "|    policy_gradient_loss | 0.0407      |\n",
      "|    value_loss           | 178         |\n",
      "-----------------------------------------\n",
      "----------------------------------------\n",
      "| rollout/                |            |\n",
      "|    ep_len_mean          | 4.82       |\n",
      "|    ep_rew_mean          | 82.8       |\n",
      "| time/                   |            |\n",
      "|    fps                  | 38         |\n",
      "|    iterations           | 32         |\n",
      "|    time_elapsed         | 1690       |\n",
      "|    total_timesteps      | 65536      |\n",
      "| train/                  |            |\n",
      "|    approx_kl            | 0.02161717 |\n",
      "|    clip_fraction        | 0.122      |\n",
      "|    clip_range           | 0.2        |\n",
      "|    entropy_loss         | -0.357     |\n",
      "|    explained_variance   | 0.573      |\n",
      "|    learning_rate        | 0.0001     |\n",
      "|    loss                 | 34         |\n",
      "|    n_updates            | 310        |\n",
      "|    policy_gradient_loss | 0.00764    |\n",
      "|    value_loss           | 109        |\n",
      "----------------------------------------\n",
      "-----------------------------------------\n",
      "| rollout/                |             |\n",
      "|    ep_len_mean          | 4.02        |\n",
      "|    ep_rew_mean          | 86.3        |\n",
      "| time/                   |             |\n",
      "|    fps                  | 38          |\n",
      "|    iterations           | 33          |\n",
      "|    time_elapsed         | 1747        |\n",
      "|    total_timesteps      | 67584       |\n",
      "| train/                  |             |\n",
      "|    approx_kl            | 0.017654257 |\n",
      "|    clip_fraction        | 0.0965      |\n",
      "|    clip_range           | 0.2         |\n",
      "|    entropy_loss         | -0.288      |\n",
      "|    explained_variance   | 0.621       |\n",
      "|    learning_rate        | 0.0001      |\n",
      "|    loss                 | 44.9        |\n",
      "|    n_updates            | 320         |\n",
      "|    policy_gradient_loss | 0.00463     |\n",
      "|    value_loss           | 89.9        |\n",
      "-----------------------------------------\n",
      "-----------------------------------------\n",
      "| rollout/                |             |\n",
      "|    ep_len_mean          | 3.99        |\n",
      "|    ep_rew_mean          | 86.4        |\n",
      "| time/                   |             |\n",
      "|    fps                  | 38          |\n",
      "|    iterations           | 34          |\n",
      "|    time_elapsed         | 1808        |\n",
      "|    total_timesteps      | 69632       |\n",
      "| train/                  |             |\n",
      "|    approx_kl            | 0.010909033 |\n",
      "|    clip_fraction        | 0.0728      |\n",
      "|    clip_range           | 0.2         |\n",
      "|    entropy_loss         | -0.264      |\n",
      "|    explained_variance   | 0.609       |\n",
      "|    learning_rate        | 0.0001      |\n",
      "|    loss                 | 16.4        |\n",
      "|    n_updates            | 330         |\n",
      "|    policy_gradient_loss | 0.00974     |\n",
      "|    value_loss           | 89.9        |\n",
      "-----------------------------------------\n",
      "-----------------------------------------\n",
      "| rollout/                |             |\n",
      "|    ep_len_mean          | 4.06        |\n",
      "|    ep_rew_mean          | 86.4        |\n",
      "| time/                   |             |\n",
      "|    fps                  | 38          |\n",
      "|    iterations           | 35          |\n",
      "|    time_elapsed         | 1871        |\n",
      "|    total_timesteps      | 71680       |\n",
      "| train/                  |             |\n",
      "|    approx_kl            | 0.020999294 |\n",
      "|    clip_fraction        | 0.0856      |\n",
      "|    clip_range           | 0.2         |\n",
      "|    entropy_loss         | -0.189      |\n",
      "|    explained_variance   | 0.669       |\n",
      "|    learning_rate        | 0.0001      |\n",
      "|    loss                 | 24.4        |\n",
      "|    n_updates            | 340         |\n",
      "|    policy_gradient_loss | -6.37e-05   |\n",
      "|    value_loss           | 69.8        |\n",
      "-----------------------------------------\n"
     ]
    },
    {
     "ename": "KeyboardInterrupt",
     "evalue": "",
     "output_type": "error",
     "traceback": [
      "\u001b[1;31m---------------------------------------------------------------------------\u001b[0m",
      "\u001b[1;31mKeyboardInterrupt\u001b[0m                         Traceback (most recent call last)",
      "Cell \u001b[1;32mIn[22], line 1\u001b[0m\n\u001b[1;32m----> 1\u001b[0m \u001b[43mmodel\u001b[49m\u001b[38;5;241;43m.\u001b[39;49m\u001b[43mlearn\u001b[49m\u001b[43m(\u001b[49m\u001b[43mtotal_timesteps\u001b[49m\u001b[38;5;241;43m=\u001b[39;49m\u001b[38;5;241;43m100000\u001b[39;49m\u001b[43m,\u001b[49m\u001b[43m \u001b[49m\u001b[43mcallback\u001b[49m\u001b[38;5;241;43m=\u001b[39;49m\u001b[43mcallback\u001b[49m\u001b[43m)\u001b[49m\n",
      "File \u001b[1;32mc:\\users\\moham\\appdata\\local\\programs\\python\\python38\\lib\\site-packages\\stable_baselines3\\ppo\\ppo.py:308\u001b[0m, in \u001b[0;36mPPO.learn\u001b[1;34m(self, total_timesteps, callback, log_interval, tb_log_name, reset_num_timesteps, progress_bar)\u001b[0m\n\u001b[0;32m    299\u001b[0m \u001b[38;5;28;01mdef\u001b[39;00m \u001b[38;5;21mlearn\u001b[39m(\n\u001b[0;32m    300\u001b[0m     \u001b[38;5;28mself\u001b[39m: SelfPPO,\n\u001b[0;32m    301\u001b[0m     total_timesteps: \u001b[38;5;28mint\u001b[39m,\n\u001b[1;32m   (...)\u001b[0m\n\u001b[0;32m    306\u001b[0m     progress_bar: \u001b[38;5;28mbool\u001b[39m \u001b[38;5;241m=\u001b[39m \u001b[38;5;28;01mFalse\u001b[39;00m,\n\u001b[0;32m    307\u001b[0m ) \u001b[38;5;241m-\u001b[39m\u001b[38;5;241m>\u001b[39m SelfPPO:\n\u001b[1;32m--> 308\u001b[0m     \u001b[38;5;28;01mreturn\u001b[39;00m \u001b[38;5;28;43msuper\u001b[39;49m\u001b[43m(\u001b[49m\u001b[43m)\u001b[49m\u001b[38;5;241;43m.\u001b[39;49m\u001b[43mlearn\u001b[49m\u001b[43m(\u001b[49m\n\u001b[0;32m    309\u001b[0m \u001b[43m        \u001b[49m\u001b[43mtotal_timesteps\u001b[49m\u001b[38;5;241;43m=\u001b[39;49m\u001b[43mtotal_timesteps\u001b[49m\u001b[43m,\u001b[49m\n\u001b[0;32m    310\u001b[0m \u001b[43m        \u001b[49m\u001b[43mcallback\u001b[49m\u001b[38;5;241;43m=\u001b[39;49m\u001b[43mcallback\u001b[49m\u001b[43m,\u001b[49m\n\u001b[0;32m    311\u001b[0m \u001b[43m        \u001b[49m\u001b[43mlog_interval\u001b[49m\u001b[38;5;241;43m=\u001b[39;49m\u001b[43mlog_interval\u001b[49m\u001b[43m,\u001b[49m\n\u001b[0;32m    312\u001b[0m \u001b[43m        \u001b[49m\u001b[43mtb_log_name\u001b[49m\u001b[38;5;241;43m=\u001b[39;49m\u001b[43mtb_log_name\u001b[49m\u001b[43m,\u001b[49m\n\u001b[0;32m    313\u001b[0m \u001b[43m        \u001b[49m\u001b[43mreset_num_timesteps\u001b[49m\u001b[38;5;241;43m=\u001b[39;49m\u001b[43mreset_num_timesteps\u001b[49m\u001b[43m,\u001b[49m\n\u001b[0;32m    314\u001b[0m \u001b[43m        \u001b[49m\u001b[43mprogress_bar\u001b[49m\u001b[38;5;241;43m=\u001b[39;49m\u001b[43mprogress_bar\u001b[49m\u001b[43m,\u001b[49m\n\u001b[0;32m    315\u001b[0m \u001b[43m    \u001b[49m\u001b[43m)\u001b[49m\n",
      "File \u001b[1;32mc:\\users\\moham\\appdata\\local\\programs\\python\\python38\\lib\\site-packages\\stable_baselines3\\common\\on_policy_algorithm.py:250\u001b[0m, in \u001b[0;36mOnPolicyAlgorithm.learn\u001b[1;34m(self, total_timesteps, callback, log_interval, tb_log_name, reset_num_timesteps, progress_bar)\u001b[0m\n\u001b[0;32m    247\u001b[0m callback\u001b[38;5;241m.\u001b[39mon_training_start(\u001b[38;5;28mlocals\u001b[39m(), \u001b[38;5;28mglobals\u001b[39m())\n\u001b[0;32m    249\u001b[0m \u001b[38;5;28;01mwhile\u001b[39;00m \u001b[38;5;28mself\u001b[39m\u001b[38;5;241m.\u001b[39mnum_timesteps \u001b[38;5;241m<\u001b[39m total_timesteps:\n\u001b[1;32m--> 250\u001b[0m     continue_training \u001b[38;5;241m=\u001b[39m \u001b[38;5;28;43mself\u001b[39;49m\u001b[38;5;241;43m.\u001b[39;49m\u001b[43mcollect_rollouts\u001b[49m\u001b[43m(\u001b[49m\u001b[38;5;28;43mself\u001b[39;49m\u001b[38;5;241;43m.\u001b[39;49m\u001b[43menv\u001b[49m\u001b[43m,\u001b[49m\u001b[43m \u001b[49m\u001b[43mcallback\u001b[49m\u001b[43m,\u001b[49m\u001b[43m \u001b[49m\u001b[38;5;28;43mself\u001b[39;49m\u001b[38;5;241;43m.\u001b[39;49m\u001b[43mrollout_buffer\u001b[49m\u001b[43m,\u001b[49m\u001b[43m \u001b[49m\u001b[43mn_rollout_steps\u001b[49m\u001b[38;5;241;43m=\u001b[39;49m\u001b[38;5;28;43mself\u001b[39;49m\u001b[38;5;241;43m.\u001b[39;49m\u001b[43mn_steps\u001b[49m\u001b[43m)\u001b[49m\n\u001b[0;32m    252\u001b[0m     \u001b[38;5;28;01mif\u001b[39;00m continue_training \u001b[38;5;129;01mis\u001b[39;00m \u001b[38;5;28;01mFalse\u001b[39;00m:\n\u001b[0;32m    253\u001b[0m         \u001b[38;5;28;01mbreak\u001b[39;00m\n",
      "File \u001b[1;32mc:\\users\\moham\\appdata\\local\\programs\\python\\python38\\lib\\site-packages\\stable_baselines3\\common\\on_policy_algorithm.py:178\u001b[0m, in \u001b[0;36mOnPolicyAlgorithm.collect_rollouts\u001b[1;34m(self, env, callback, rollout_buffer, n_rollout_steps)\u001b[0m\n\u001b[0;32m    175\u001b[0m \u001b[38;5;28;01mif\u001b[39;00m \u001b[38;5;28misinstance\u001b[39m(\u001b[38;5;28mself\u001b[39m\u001b[38;5;241m.\u001b[39maction_space, spaces\u001b[38;5;241m.\u001b[39mBox):\n\u001b[0;32m    176\u001b[0m     clipped_actions \u001b[38;5;241m=\u001b[39m np\u001b[38;5;241m.\u001b[39mclip(actions, \u001b[38;5;28mself\u001b[39m\u001b[38;5;241m.\u001b[39maction_space\u001b[38;5;241m.\u001b[39mlow, \u001b[38;5;28mself\u001b[39m\u001b[38;5;241m.\u001b[39maction_space\u001b[38;5;241m.\u001b[39mhigh)\n\u001b[1;32m--> 178\u001b[0m new_obs, rewards, dones, infos \u001b[38;5;241m=\u001b[39m \u001b[43menv\u001b[49m\u001b[38;5;241;43m.\u001b[39;49m\u001b[43mstep\u001b[49m\u001b[43m(\u001b[49m\u001b[43mclipped_actions\u001b[49m\u001b[43m)\u001b[49m\n\u001b[0;32m    180\u001b[0m \u001b[38;5;28mself\u001b[39m\u001b[38;5;241m.\u001b[39mnum_timesteps \u001b[38;5;241m+\u001b[39m\u001b[38;5;241m=\u001b[39m env\u001b[38;5;241m.\u001b[39mnum_envs\n\u001b[0;32m    182\u001b[0m \u001b[38;5;66;03m# Give access to local variables\u001b[39;00m\n",
      "File \u001b[1;32mc:\\users\\moham\\appdata\\local\\programs\\python\\python38\\lib\\site-packages\\stable_baselines3\\common\\vec_env\\base_vec_env.py:163\u001b[0m, in \u001b[0;36mVecEnv.step\u001b[1;34m(self, actions)\u001b[0m\n\u001b[0;32m    156\u001b[0m \u001b[38;5;250m\u001b[39m\u001b[38;5;124;03m\"\"\"\u001b[39;00m\n\u001b[0;32m    157\u001b[0m \u001b[38;5;124;03mStep the environments with the given action\u001b[39;00m\n\u001b[0;32m    158\u001b[0m \n\u001b[0;32m    159\u001b[0m \u001b[38;5;124;03m:param actions: the action\u001b[39;00m\n\u001b[0;32m    160\u001b[0m \u001b[38;5;124;03m:return: observation, reward, done, information\u001b[39;00m\n\u001b[0;32m    161\u001b[0m \u001b[38;5;124;03m\"\"\"\u001b[39;00m\n\u001b[0;32m    162\u001b[0m \u001b[38;5;28mself\u001b[39m\u001b[38;5;241m.\u001b[39mstep_async(actions)\n\u001b[1;32m--> 163\u001b[0m \u001b[38;5;28;01mreturn\u001b[39;00m \u001b[38;5;28;43mself\u001b[39;49m\u001b[38;5;241;43m.\u001b[39;49m\u001b[43mstep_wait\u001b[49m\u001b[43m(\u001b[49m\u001b[43m)\u001b[49m\n",
      "File \u001b[1;32mc:\\users\\moham\\appdata\\local\\programs\\python\\python38\\lib\\site-packages\\stable_baselines3\\common\\vec_env\\vec_transpose.py:95\u001b[0m, in \u001b[0;36mVecTransposeImage.step_wait\u001b[1;34m(self)\u001b[0m\n\u001b[0;32m     94\u001b[0m \u001b[38;5;28;01mdef\u001b[39;00m \u001b[38;5;21mstep_wait\u001b[39m(\u001b[38;5;28mself\u001b[39m) \u001b[38;5;241m-\u001b[39m\u001b[38;5;241m>\u001b[39m VecEnvStepReturn:\n\u001b[1;32m---> 95\u001b[0m     observations, rewards, dones, infos \u001b[38;5;241m=\u001b[39m \u001b[38;5;28;43mself\u001b[39;49m\u001b[38;5;241;43m.\u001b[39;49m\u001b[43mvenv\u001b[49m\u001b[38;5;241;43m.\u001b[39;49m\u001b[43mstep_wait\u001b[49m\u001b[43m(\u001b[49m\u001b[43m)\u001b[49m\n\u001b[0;32m     97\u001b[0m     \u001b[38;5;66;03m# Transpose the terminal observations\u001b[39;00m\n\u001b[0;32m     98\u001b[0m     \u001b[38;5;28;01mfor\u001b[39;00m idx, done \u001b[38;5;129;01min\u001b[39;00m \u001b[38;5;28menumerate\u001b[39m(dones):\n",
      "File \u001b[1;32mc:\\users\\moham\\appdata\\local\\programs\\python\\python38\\lib\\site-packages\\stable_baselines3\\common\\vec_env\\dummy_vec_env.py:54\u001b[0m, in \u001b[0;36mDummyVecEnv.step_wait\u001b[1;34m(self)\u001b[0m\n\u001b[0;32m     52\u001b[0m \u001b[38;5;28;01mdef\u001b[39;00m \u001b[38;5;21mstep_wait\u001b[39m(\u001b[38;5;28mself\u001b[39m) \u001b[38;5;241m-\u001b[39m\u001b[38;5;241m>\u001b[39m VecEnvStepReturn:\n\u001b[0;32m     53\u001b[0m     \u001b[38;5;28;01mfor\u001b[39;00m env_idx \u001b[38;5;129;01min\u001b[39;00m \u001b[38;5;28mrange\u001b[39m(\u001b[38;5;28mself\u001b[39m\u001b[38;5;241m.\u001b[39mnum_envs):\n\u001b[1;32m---> 54\u001b[0m         obs, \u001b[38;5;28mself\u001b[39m\u001b[38;5;241m.\u001b[39mbuf_rews[env_idx], \u001b[38;5;28mself\u001b[39m\u001b[38;5;241m.\u001b[39mbuf_dones[env_idx], \u001b[38;5;28mself\u001b[39m\u001b[38;5;241m.\u001b[39mbuf_infos[env_idx] \u001b[38;5;241m=\u001b[39m \u001b[38;5;28;43mself\u001b[39;49m\u001b[38;5;241;43m.\u001b[39;49m\u001b[43menvs\u001b[49m\u001b[43m[\u001b[49m\u001b[43menv_idx\u001b[49m\u001b[43m]\u001b[49m\u001b[38;5;241;43m.\u001b[39;49m\u001b[43mstep\u001b[49m\u001b[43m(\u001b[49m\n\u001b[0;32m     55\u001b[0m \u001b[43m            \u001b[49m\u001b[38;5;28;43mself\u001b[39;49m\u001b[38;5;241;43m.\u001b[39;49m\u001b[43mactions\u001b[49m\u001b[43m[\u001b[49m\u001b[43menv_idx\u001b[49m\u001b[43m]\u001b[49m\n\u001b[0;32m     56\u001b[0m \u001b[43m        \u001b[49m\u001b[43m)\u001b[49m\n\u001b[0;32m     57\u001b[0m         \u001b[38;5;28;01mif\u001b[39;00m \u001b[38;5;28mself\u001b[39m\u001b[38;5;241m.\u001b[39mbuf_dones[env_idx]:\n\u001b[0;32m     58\u001b[0m             \u001b[38;5;66;03m# save final observation where user can get it, then reset\u001b[39;00m\n\u001b[0;32m     59\u001b[0m             \u001b[38;5;28mself\u001b[39m\u001b[38;5;241m.\u001b[39mbuf_infos[env_idx][\u001b[38;5;124m\"\u001b[39m\u001b[38;5;124mterminal_observation\u001b[39m\u001b[38;5;124m\"\u001b[39m] \u001b[38;5;241m=\u001b[39m obs\n",
      "File \u001b[1;32mc:\\users\\moham\\appdata\\local\\programs\\python\\python38\\lib\\site-packages\\stable_baselines3\\common\\monitor.py:95\u001b[0m, in \u001b[0;36mMonitor.step\u001b[1;34m(self, action)\u001b[0m\n\u001b[0;32m     93\u001b[0m \u001b[38;5;28;01mif\u001b[39;00m \u001b[38;5;28mself\u001b[39m\u001b[38;5;241m.\u001b[39mneeds_reset:\n\u001b[0;32m     94\u001b[0m     \u001b[38;5;28;01mraise\u001b[39;00m \u001b[38;5;167;01mRuntimeError\u001b[39;00m(\u001b[38;5;124m\"\u001b[39m\u001b[38;5;124mTried to step environment that needs reset\u001b[39m\u001b[38;5;124m\"\u001b[39m)\n\u001b[1;32m---> 95\u001b[0m observation, reward, done, info \u001b[38;5;241m=\u001b[39m \u001b[38;5;28;43mself\u001b[39;49m\u001b[38;5;241;43m.\u001b[39;49m\u001b[43menv\u001b[49m\u001b[38;5;241;43m.\u001b[39;49m\u001b[43mstep\u001b[49m\u001b[43m(\u001b[49m\u001b[43maction\u001b[49m\u001b[43m)\u001b[49m\n\u001b[0;32m     96\u001b[0m \u001b[38;5;28mself\u001b[39m\u001b[38;5;241m.\u001b[39mrewards\u001b[38;5;241m.\u001b[39mappend(reward)\n\u001b[0;32m     97\u001b[0m \u001b[38;5;28;01mif\u001b[39;00m done:\n",
      "Cell \u001b[1;32mIn[7], line 30\u001b[0m, in \u001b[0;36mVizDoomGym.step\u001b[1;34m(self, action)\u001b[0m\n\u001b[0;32m     27\u001b[0m \u001b[38;5;28;01mdef\u001b[39;00m \u001b[38;5;21mstep\u001b[39m(\u001b[38;5;28mself\u001b[39m, action):\n\u001b[0;32m     28\u001b[0m     \u001b[38;5;66;03m# Specify action and take step within game\u001b[39;00m\n\u001b[0;32m     29\u001b[0m     actions \u001b[38;5;241m=\u001b[39m np\u001b[38;5;241m.\u001b[39midentity(\u001b[38;5;241m3\u001b[39m, dtype\u001b[38;5;241m=\u001b[39mnp\u001b[38;5;241m.\u001b[39muint8)\n\u001b[1;32m---> 30\u001b[0m     reward \u001b[38;5;241m=\u001b[39m \u001b[38;5;28;43mself\u001b[39;49m\u001b[38;5;241;43m.\u001b[39;49m\u001b[43mgame\u001b[49m\u001b[38;5;241;43m.\u001b[39;49m\u001b[43mmake_action\u001b[49m\u001b[43m(\u001b[49m\u001b[43mactions\u001b[49m\u001b[43m[\u001b[49m\u001b[43maction\u001b[49m\u001b[43m]\u001b[49m\u001b[43m,\u001b[49m\u001b[43m \u001b[49m\u001b[38;5;241;43m4\u001b[39;49m\u001b[43m)\u001b[49m\n\u001b[0;32m     32\u001b[0m     \u001b[38;5;66;03m# Get all other stuff we need to return\u001b[39;00m\n\u001b[0;32m     33\u001b[0m     \u001b[38;5;28;01mif\u001b[39;00m \u001b[38;5;28mself\u001b[39m\u001b[38;5;241m.\u001b[39mgame\u001b[38;5;241m.\u001b[39mget_state():\n",
      "\u001b[1;31mKeyboardInterrupt\u001b[0m: "
     ]
    }
   ],
   "source": [
    "model.learn(total_timesteps=100000, callback=callback)"
   ]
  },
  {
   "cell_type": "markdown",
   "id": "a8574072-c7ea-4146-bad4-d5638704de87",
   "metadata": {
    "tags": []
   },
   "source": [
    "To view the logs run `tensorboard --logdir=.` in the PPO dir of the model run.  (CHECK 1 42 00 IN THE VIDEO FOR EXPLANATION)\n",
    "Explaining the data:  \n",
    "> 1. `ep_len_mean`: Mean episode length (averaged over stats_window_size episodes, 100 by default)\n",
    "> 2. `ep_rew_mean`: Mean episodic training reward (averaged over stats_window_size episodes, 100 by default).\n",
    "> 3.\n",
    "> 4.\n",
    "> 5."
   ]
  },
  {
   "cell_type": "markdown",
   "id": "6fbeb17f-924c-40ad-a36a-f2a6f5a26be5",
   "metadata": {},
   "source": [
    "# 6. Test the Model"
   ]
  },
  {
   "cell_type": "code",
   "execution_count": 18,
   "id": "2ac0ba5b-b920-43cc-ae54-85de3ca226db",
   "metadata": {
    "tags": []
   },
   "outputs": [],
   "source": [
    "# Import eval policy to test agent\n",
    "from stable_baselines3.common.evaluation import evaluate_policy"
   ]
  },
  {
   "cell_type": "code",
   "execution_count": 19,
   "id": "cca591ce-a954-418e-bbcd-ca651961e90f",
   "metadata": {
    "tags": []
   },
   "outputs": [],
   "source": [
    "# Reload model from disc\n",
    "model = PPO.load('./train/train_basic/best_model_110000')"
   ]
  },
  {
   "cell_type": "code",
   "execution_count": 20,
   "id": "c807842e-2155-444b-830f-f834723646e1",
   "metadata": {
    "tags": []
   },
   "outputs": [],
   "source": [
    "# Create rendered environment\n",
    "env = VizDoomGym(render=True)"
   ]
  },
  {
   "cell_type": "code",
   "execution_count": 31,
   "id": "261d95c2-acf7-4e33-87d8-855f66e382a8",
   "metadata": {
    "tags": []
   },
   "outputs": [],
   "source": [
    "# Evaluate mean reward for 100 games\n",
    "mean_reward, _ = evaluate_policy(model, env, n_eval_episodes=100)"
   ]
  },
  {
   "cell_type": "code",
   "execution_count": 32,
   "id": "2a004cba-0244-47fd-9d3b-970083faf02c",
   "metadata": {
    "tags": []
   },
   "outputs": [
    {
     "data": {
      "text/plain": [
       "86.99"
      ]
     },
     "execution_count": 32,
     "metadata": {},
     "output_type": "execute_result"
    }
   ],
   "source": [
    "mean_reward"
   ]
  },
  {
   "cell_type": "code",
   "execution_count": 24,
   "id": "af99ad8b-e35f-49db-acb9-ef960d8d8d6b",
   "metadata": {
    "tags": []
   },
   "outputs": [
    {
     "name": "stdout",
     "output_type": "stream",
     "text": [
      "Total reward for episode 67.0 is 0\n",
      "Total reward for episode 95.0 is 1\n",
      "Total reward for episode 95.0 is 2\n",
      "Total reward for episode 95.0 is 3\n",
      "Total reward for episode 95.0 is 4\n"
     ]
    }
   ],
   "source": [
    "for episode in range(5):\n",
    "    obs = env.reset()\n",
    "    done = False\n",
    "    total_reward = 0\n",
    "    while not done:\n",
    "        action, _ = model.predict(obs)\n",
    "        obs, reward, done, info = env.step(action)\n",
    "        time.sleep(0.25)\n",
    "        total_reward += reward\n",
    "    print('Total reward for episode {} is {}'.format(total_reward, episode))\n",
    "    time.sleep(2)"
   ]
  },
  {
   "cell_type": "code",
   "execution_count": 25,
   "id": "f89174c2-3a1c-4d60-93f7-d2b212d2c152",
   "metadata": {
    "tags": []
   },
   "outputs": [],
   "source": [
    "env.close()"
   ]
  },
  {
   "cell_type": "code",
   "execution_count": null,
   "id": "cae5b7b1-5cc0-454b-b8d4-c95066c3cb71",
   "metadata": {},
   "outputs": [],
   "source": []
  }
 ],
 "metadata": {
  "kernelspec": {
   "display_name": "Python 3 (ipykernel)",
   "language": "python",
   "name": "python3"
  },
  "language_info": {
   "codemirror_mode": {
    "name": "ipython",
    "version": 3
   },
   "file_extension": ".py",
   "mimetype": "text/x-python",
   "name": "python",
   "nbconvert_exporter": "python",
   "pygments_lexer": "ipython3",
   "version": "3.8.0"
  },
  "toc-autonumbering": false
 },
 "nbformat": 4,
 "nbformat_minor": 5
}
