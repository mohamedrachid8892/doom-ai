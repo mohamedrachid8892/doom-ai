{
 "cells": [
  {
   "cell_type": "markdown",
   "id": "0b3e8a33-6fc3-4881-855f-185032e7a9c5",
   "metadata": {
    "tags": []
   },
   "source": [
    "# 1. Get VizDoom Up and Running"
   ]
  },
  {
   "cell_type": "code",
   "execution_count": 18,
   "id": "37d72d31-3b43-49c5-9fd4-26f9b172d647",
   "metadata": {
    "tags": []
   },
   "outputs": [
    {
     "name": "stdout",
     "output_type": "stream",
     "text": [
      "Requirement already satisfied: vizdoom in c:\\users\\moham\\appdata\\local\\programs\\python\\python38\\lib\\site-packages (1.1.14)\n",
      "Requirement already satisfied: numpy in c:\\users\\moham\\appdata\\local\\programs\\python\\python38\\lib\\site-packages (from vizdoom) (1.24.3)\n"
     ]
    },
    {
     "name": "stderr",
     "output_type": "stream",
     "text": [
      "WARNING: You are using pip version 19.2.3, however version 23.1.1 is available.\n",
      "You should consider upgrading via the 'python -m pip install --upgrade pip' command.\n"
     ]
    }
   ],
   "source": [
    "!pip install vizdoom"
   ]
  },
  {
   "cell_type": "code",
   "execution_count": 19,
   "id": "f2858ba5-8a11-4e66-b166-81b3dd471054",
   "metadata": {
    "tags": []
   },
   "outputs": [
    {
     "name": "stderr",
     "output_type": "stream",
     "text": [
      "fatal: destination path 'ViZDoom' already exists and is not an empty directory.\n"
     ]
    }
   ],
   "source": [
    "!cd github & git clone https://github.com/Farama-Foundation/ViZDoom.git"
   ]
  },
  {
   "cell_type": "code",
   "execution_count": 1,
   "id": "3994bc91-d4c3-403f-b86a-0d9fa58c59cc",
   "metadata": {
    "tags": []
   },
   "outputs": [],
   "source": [
    "# Import vizdoom for game environment\n",
    "from vizdoom import *\n",
    "# Import random to take random actions\n",
    "import random\n",
    "# Import time to slow down game, sleep between frames\n",
    "import time\n",
    "# Import numpy for identity matrix\n",
    "import numpy as np"
   ]
  },
  {
   "cell_type": "code",
   "execution_count": null,
   "id": "2901405e-8dd6-4a73-bb6a-779db1b45715",
   "metadata": {
    "tags": []
   },
   "outputs": [],
   "source": [
    "# Setup Game\n",
    "game = DoomGame()\n",
    "game.load_config('github/ViZDoom/scenarios/deadly_corridor_s1.cfg')\n",
    "game.init()"
   ]
  },
  {
   "cell_type": "code",
   "execution_count": null,
   "id": "1f394bfb-ce13-437b-98c1-d50923601ed0",
   "metadata": {
    "tags": []
   },
   "outputs": [],
   "source": [
    "# Define the actions we can take in the environment - Move left, move right, attack\n",
    "actions = np.identity(7, dtype=np.uint8) "
   ]
  },
  {
   "cell_type": "code",
   "execution_count": null,
   "id": "3575bc05-262b-48d9-bfd8-2f53a3a8dd55",
   "metadata": {
    "tags": []
   },
   "outputs": [],
   "source": [
    "state = game.get_state()"
   ]
  },
  {
   "cell_type": "code",
   "execution_count": null,
   "id": "f2108a0b-a006-4076-b25d-232301c9110e",
   "metadata": {
    "tags": []
   },
   "outputs": [],
   "source": [
    "state.game_variables"
   ]
  },
  {
   "cell_type": "code",
   "execution_count": null,
   "id": "ecdae2b0-ba77-49b4-b1b0-53e98770620c",
   "metadata": {
    "tags": []
   },
   "outputs": [],
   "source": [
    "random.choice(actions)"
   ]
  },
  {
   "cell_type": "code",
   "execution_count": null,
   "id": "960fffb8-5d08-4b44-9c5f-5c76cf239a07",
   "metadata": {
    "scrolled": true,
    "tags": []
   },
   "outputs": [],
   "source": [
    "# Loop through episodes\n",
    "episodes = 10 # Number of games to play\n",
    "for episode in range(episodes):\n",
    "    # Create new episode or game\n",
    "    game.new_episode()\n",
    "    # Check that the game isn't done\n",
    "    while not game.is_episode_finished():\n",
    "        # Get the game state\n",
    "        state = game.get_state()\n",
    "        # Get the game image\n",
    "        img = state.screen_buffer\n",
    "        # Get the game variables (in this case, ammo)\n",
    "        info = state.game_variables\n",
    "        # Take an action. Pass in frame skip to give AI time to process each action reward\n",
    "        reward = game.make_action(random.choice(actions), 4)\n",
    "        # Print the reward for each action\n",
    "        # print('Reward:', reward)\n",
    "        time.sleep(0.02)\n",
    "    # Print total reward for full game\n",
    "    print('Result:', game.get_total_reward())\n",
    "    time.sleep(2)"
   ]
  },
  {
   "cell_type": "code",
   "execution_count": null,
   "id": "f79c2ce0-96a8-44c0-9d72-562ee22f5da9",
   "metadata": {
    "tags": []
   },
   "outputs": [],
   "source": [
    "game.close()"
   ]
  },
  {
   "cell_type": "markdown",
   "id": "5026b1c4-52c6-4b0c-ad28-9b4f04b87be9",
   "metadata": {},
   "source": [
    "# 2. Converting the Environment to a Gym Envrionment"
   ]
  },
  {
   "cell_type": "code",
   "execution_count": null,
   "id": "f3aaaecf-12e5-4ac9-9eab-272000d7723a",
   "metadata": {
    "tags": []
   },
   "outputs": [],
   "source": [
    "!pip install gym"
   ]
  },
  {
   "cell_type": "code",
   "execution_count": 2,
   "id": "9bac96f0-76a0-4826-bddd-1fc6332ca1ca",
   "metadata": {
    "tags": []
   },
   "outputs": [],
   "source": [
    "# Import environment base class from OpenAI Gym\n",
    "from gym import Env\n",
    "# Import gym spaces\n",
    "from gym.spaces import Discrete, Box\n",
    "# Import opencv, Used to greyscale observations to make processing environment faster\n",
    "import cv2"
   ]
  },
  {
   "cell_type": "code",
   "execution_count": 3,
   "id": "3c715b10-23ac-4e4f-8a38-d76bbea4e096",
   "metadata": {
    "scrolled": true,
    "tags": []
   },
   "outputs": [],
   "source": [
    "# Create VIZDoom OpenAI Gym Environment\n",
    "class VizDoomGym(Env):\n",
    "    \n",
    "    # Function that is called when we start the environment\n",
    "    def __init__(self, render=False, config='github/ViZDoom/scenarios/deadly_corridor_s1.cfg'):\n",
    "        # Inherit from Env\n",
    "        super().__init__()\n",
    "        \n",
    "        # Setup the game\n",
    "        self.game = DoomGame()\n",
    "        self.game.load_config(config) # Pass in whatever environment you need from the scenarios folder.\n",
    "        \n",
    "        # Game Variables:\n",
    "        self.damage_taken = 0\n",
    "        self.hitcount = 0\n",
    "        self.ammo = 52\n",
    "        \n",
    "        # Define whether or not to render the game window.\n",
    "        # Rendering the window takes away from computing power, so disabling is ideal for testing\n",
    "        if render == False:\n",
    "            self.game.set_window_visible(False)\n",
    "        else:\n",
    "            self.game.set_window_visible(True)\n",
    "        \n",
    "        self.game.init()\n",
    "        \n",
    "        # Create the action and observation space\n",
    "        self.observation_space = Box(low=0, high=255, shape=(100, 160, 1), dtype=np.uint8)\n",
    "        self.action_space = Discrete(7)\n",
    "    \n",
    "    # How we take a step in the environment\n",
    "    def step(self, action):\n",
    "        # Specify action and take step within game\n",
    "        actions = np.identity(7, dtype=np.uint8)\n",
    "        movement_reward = self.game.make_action(actions[action], 4)\n",
    "        \n",
    "        reward = 0\n",
    "        # Get all other stuff we need to return\n",
    "        if self.game.get_state():\n",
    "            state = self.game.get_state().screen_buffer\n",
    "            state = self.greyscale(state)\n",
    "            \n",
    "            # Reward shaping\n",
    "            game_variables = self.game.get_state().game_variables\n",
    "            health, damage_taken, hitcount, ammo = game_variables\n",
    "            \n",
    "            # Calculate reward deltas\n",
    "            damage_taken_delta = -damage_taken + self.damage_taken\n",
    "            self.damage_taken = damage_taken\n",
    "            hitcount_delta = hitcount - self.hitcount\n",
    "            self.hitcount = hitcount\n",
    "            ammo_delta = ammo - self.ammo\n",
    "            self.ammo = ammo\n",
    "            \n",
    "            reward = movement_reward + damage_taken_delta*10 + hitcount_delta*200 + ammo_delta*5\n",
    "            info = ammo\n",
    "        else:\n",
    "            state = np.zeros(self.observation_space.shape)\n",
    "            info = 0\n",
    "            \n",
    "        info = {\"info\": info}\n",
    "            \n",
    "        done = self.game.is_episode_finished()\n",
    "        \n",
    "        return state, reward, done, info\n",
    "    \n",
    "    # Define how to render the game or environment. ViZDOom already defines this for us, so just pass.\n",
    "    def render():\n",
    "        pass\n",
    "    \n",
    "    # What happens when we start a new gmae\n",
    "    def reset(self):\n",
    "        self.game.new_episode()\n",
    "        state = self.game.get_state().screen_buffer\n",
    "        return self.greyscale(state)\n",
    "    \n",
    "    # Custom function. Greyscale the game frame and resize it\n",
    "    def greyscale(self, observation):\n",
    "        # Reshape the observation array for cvtColor and change color channels\n",
    "        grey = cv2.cvtColor(np.moveaxis(observation, 0, -1), cv2.COLOR_BGR2GRAY)\n",
    "        # Resize the image and scale down so there are less pixels to process\n",
    "        resize = cv2.resize(grey, (160, 100), interpolation=cv2.INTER_CUBIC)\n",
    "        state = np.reshape(resize, (100, 160, 1))\n",
    "        return state\n",
    "    \n",
    "    # Call to close down the game\n",
    "    def close(self):\n",
    "        self.game.close()"
   ]
  },
  {
   "cell_type": "code",
   "execution_count": null,
   "id": "a1f59f82-04e8-4a83-b08a-68f7fb33336b",
   "metadata": {
    "tags": []
   },
   "outputs": [],
   "source": [
    "env = VizDoomGym(render=True)"
   ]
  },
  {
   "cell_type": "code",
   "execution_count": null,
   "id": "494b4cdf-d439-4214-b9c2-492bc66f4e9d",
   "metadata": {
    "tags": []
   },
   "outputs": [],
   "source": [
    "env.reset()"
   ]
  },
  {
   "cell_type": "code",
   "execution_count": null,
   "id": "2e7342b8-d2d9-4ad0-8dc1-af9492fe8c45",
   "metadata": {
    "tags": []
   },
   "outputs": [],
   "source": [
    "env.close()"
   ]
  },
  {
   "cell_type": "code",
   "execution_count": null,
   "id": "ea7be77c-5454-4f1f-823e-c9a3e256ebdf",
   "metadata": {
    "tags": []
   },
   "outputs": [],
   "source": [
    "# Import Environment checker\n",
    "from stable_baselines3.common import env_checker"
   ]
  },
  {
   "cell_type": "code",
   "execution_count": null,
   "id": "370e0ece-bc75-4476-b422-7f649eb21580",
   "metadata": {
    "tags": []
   },
   "outputs": [],
   "source": [
    "env_checker.check_env(env)"
   ]
  },
  {
   "cell_type": "markdown",
   "id": "eccb60e5-300a-4db1-ba42-b7e632948217",
   "metadata": {},
   "source": [
    "# 3. View State"
   ]
  },
  {
   "cell_type": "code",
   "execution_count": 23,
   "id": "95645a20-1b3d-423f-afae-9fa0ab926ada",
   "metadata": {
    "collapsed": true,
    "jupyter": {
     "outputs_hidden": true
    },
    "scrolled": true,
    "tags": []
   },
   "outputs": [
    {
     "name": "stdout",
     "output_type": "stream",
     "text": [
      "Requirement already satisfied: matplotlib in c:\\users\\moham\\appdata\\local\\programs\\python\\python38\\lib\\site-packages (3.7.1)\n",
      "Requirement already satisfied: pillow>=6.2.0 in c:\\users\\moham\\appdata\\local\\programs\\python\\python38\\lib\\site-packages (from matplotlib) (9.5.0)\n",
      "Requirement already satisfied: pyparsing>=2.3.1 in c:\\users\\moham\\appdata\\local\\programs\\python\\python38\\lib\\site-packages (from matplotlib) (3.0.9)\n",
      "Requirement already satisfied: cycler>=0.10 in c:\\users\\moham\\appdata\\local\\programs\\python\\python38\\lib\\site-packages (from matplotlib) (0.11.0)\n",
      "Requirement already satisfied: packaging>=20.0 in c:\\users\\moham\\appdata\\local\\programs\\python\\python38\\lib\\site-packages (from matplotlib) (23.1)\n",
      "Requirement already satisfied: kiwisolver>=1.0.1 in c:\\users\\moham\\appdata\\local\\programs\\python\\python38\\lib\\site-packages (from matplotlib) (1.4.4)\n",
      "Requirement already satisfied: python-dateutil>=2.7 in c:\\users\\moham\\appdata\\local\\programs\\python\\python38\\lib\\site-packages (from matplotlib) (2.8.2)\n",
      "Requirement already satisfied: importlib-resources>=3.2.0; python_version < \"3.10\" in c:\\users\\moham\\appdata\\local\\programs\\python\\python38\\lib\\site-packages (from matplotlib) (5.12.0)\n",
      "Requirement already satisfied: contourpy>=1.0.1 in c:\\users\\moham\\appdata\\local\\programs\\python\\python38\\lib\\site-packages (from matplotlib) (1.0.7)\n",
      "Requirement already satisfied: numpy>=1.20 in c:\\users\\moham\\appdata\\local\\programs\\python\\python38\\lib\\site-packages (from matplotlib) (1.24.3)\n",
      "Requirement already satisfied: fonttools>=4.22.0 in c:\\users\\moham\\appdata\\local\\programs\\python\\python38\\lib\\site-packages (from matplotlib) (4.39.3)\n",
      "Requirement already satisfied: six>=1.5 in c:\\users\\moham\\appdata\\local\\programs\\python\\python38\\lib\\site-packages (from python-dateutil>=2.7->matplotlib) (1.16.0)\n",
      "Requirement already satisfied: zipp>=3.1.0; python_version < \"3.10\" in c:\\users\\moham\\appdata\\local\\programs\\python\\python38\\lib\\site-packages (from importlib-resources>=3.2.0; python_version < \"3.10\"->matplotlib) (3.15.0)\n"
     ]
    },
    {
     "name": "stderr",
     "output_type": "stream",
     "text": [
      "WARNING: You are using pip version 19.2.3, however version 23.1.1 is available.\n",
      "You should consider upgrading via the 'python -m pip install --upgrade pip' command.\n"
     ]
    }
   ],
   "source": [
    "!pip install matplotlib"
   ]
  },
  {
   "cell_type": "code",
   "execution_count": 4,
   "id": "83e51f0a-2e6d-4d24-843f-85054082d69a",
   "metadata": {
    "tags": []
   },
   "outputs": [],
   "source": [
    "from matplotlib import pyplot as plt"
   ]
  },
  {
   "cell_type": "code",
   "execution_count": null,
   "id": "c257ff4d-cdff-4eb4-b97d-4e9a16eacd94",
   "metadata": {
    "tags": []
   },
   "outputs": [],
   "source": [
    "plt.imshow(cv2.cvtColor(state, cv2.COLOR_BGR2RGB))"
   ]
  },
  {
   "cell_type": "markdown",
   "id": "de1c7913-a145-42d0-9633-7768a49846d9",
   "metadata": {
    "tags": []
   },
   "source": [
    "# 4. Log the Results"
   ]
  },
  {
   "cell_type": "code",
   "execution_count": null,
   "id": "c2f72c4c-f4da-4a97-88ee-80ae5635cbaa",
   "metadata": {
    "scrolled": true,
    "tags": []
   },
   "outputs": [],
   "source": [
    "!pip install torch torchvision torchaudio --index-url https://download.pytorch.org/whl/cu117"
   ]
  },
  {
   "cell_type": "code",
   "execution_count": null,
   "id": "c6896a25-94fe-4d58-b4ab-6bd49134a9b1",
   "metadata": {
    "scrolled": true,
    "tags": []
   },
   "outputs": [],
   "source": [
    "!pip install stable-baselines3[extra]"
   ]
  },
  {
   "cell_type": "code",
   "execution_count": 5,
   "id": "d7591c06-e1c1-4fa6-8664-a5c8bfa6bcbe",
   "metadata": {
    "tags": []
   },
   "outputs": [],
   "source": [
    "# Import os for file navigation\n",
    "import os\n",
    "# Import callback class from stable baselines 3\n",
    "from stable_baselines3.common.callbacks import BaseCallback"
   ]
  },
  {
   "cell_type": "code",
   "execution_count": 6,
   "id": "e0242c4f-0ef5-438b-aa80-39ced1dbe050",
   "metadata": {
    "tags": []
   },
   "outputs": [],
   "source": [
    "class TrainAndLoggingCallback(BaseCallback):\n",
    "    \n",
    "    def __init__(self, check_freq, save_path, verbose=1):\n",
    "        super(TrainAndLoggingCallback, self).__init__(verbose)\n",
    "        self.check_freq = check_freq\n",
    "        self.save_path = save_path\n",
    "        \n",
    "    def _init_callback(self):\n",
    "        if self.save_path is not None:\n",
    "            os.makedirs(self.save_path, exist_ok=True)\n",
    "    \n",
    "    def _on_step(self):\n",
    "        if self.n_calls % self.check_freq == 0:\n",
    "            model_path = os.path.join(self.save_path, 'best_model_{}'.format(self.n_calls))\n",
    "            self.model.save(model_path)\n",
    "            \n",
    "        return True"
   ]
  },
  {
   "cell_type": "code",
   "execution_count": 7,
   "id": "aa3ff888-d59f-4895-94b5-f56c11c1e759",
   "metadata": {
    "tags": []
   },
   "outputs": [],
   "source": [
    "CHECKPOINT_DIR = './train/train_deadly_corridor'\n",
    "LOG_DIR = './logs/log_deadly_corridor'"
   ]
  },
  {
   "cell_type": "code",
   "execution_count": 8,
   "id": "be35ef98-40ae-44c9-a5aa-791bf49baa57",
   "metadata": {
    "tags": []
   },
   "outputs": [],
   "source": [
    "callback = TrainAndLoggingCallback(check_freq=10000, save_path=CHECKPOINT_DIR)"
   ]
  },
  {
   "cell_type": "markdown",
   "id": "9ae3e0ee-3b14-47fb-b380-c215d5f51484",
   "metadata": {
    "tags": []
   },
   "source": [
    "# 5. Train Model using Curriculum"
   ]
  },
  {
   "cell_type": "code",
   "execution_count": 27,
   "id": "a5e0186d-fb7a-43cd-a891-d88ab9e53d32",
   "metadata": {
    "collapsed": true,
    "jupyter": {
     "outputs_hidden": true
    },
    "tags": []
   },
   "outputs": [
    {
     "data": {
      "text/html": [
       "<pre style=\"white-space:pre;overflow-x:auto;line-height:normal;font-family:Menlo,'DejaVu Sans Mono',consolas,'Courier New',monospace\"><span style=\"color: #800080; text-decoration-color: #800080\">   1%</span> <span style=\"color: #f92672; text-decoration-color: #f92672\">╸</span><span style=\"color: #3a3a3a; text-decoration-color: #3a3a3a\">━━━━━━━━━━━━━━━━━━━━━━━━━━━━━━━━━━━━━━━━━━━━━━━━━━━━━━━━━━━━━━━━</span> <span style=\"color: #008000; text-decoration-color: #008000\">623/80,000 </span> [ <span style=\"color: #808000; text-decoration-color: #808000\">0:00:28</span> &lt; <span style=\"color: #008080; text-decoration-color: #008080\">0:30:01</span> , <span style=\"color: #800000; text-decoration-color: #800000\">44 it/s</span> ]\n",
       "</pre>\n"
      ],
      "text/plain": [
       "\u001b[35m   1%\u001b[0m \u001b[38;2;249;38;114m╸\u001b[0m\u001b[38;5;237m━━━━━━━━━━━━━━━━━━━━━━━━━━━━━━━━━━━━━━━━━━━━━━━━━━━━━━━━━━━━━━━━\u001b[0m \u001b[32m623/80,000 \u001b[0m [ \u001b[33m0:00:28\u001b[0m < \u001b[36m0:30:01\u001b[0m , \u001b[31m44 it/s\u001b[0m ]\n"
      ]
     },
     "metadata": {},
     "output_type": "display_data"
    },
    {
     "data": {
      "text/html": [
       "<pre style=\"white-space:pre;overflow-x:auto;line-height:normal;font-family:Menlo,'DejaVu Sans Mono',consolas,'Courier New',monospace\">WARNING: You are using pip version 19.2.3, however version 23.1.1 is available.\n",
       "</pre>\n"
      ],
      "text/plain": [
       "WARNING: You are using pip version 19.2.3, however version 23.1.1 is available.\n"
      ]
     },
     "metadata": {},
     "output_type": "display_data"
    },
    {
     "data": {
      "text/html": [
       "<pre style=\"white-space:pre;overflow-x:auto;line-height:normal;font-family:Menlo,'DejaVu Sans Mono',consolas,'Courier New',monospace\">Collecting ipywidgets\n",
       "</pre>\n"
      ],
      "text/plain": [
       "Collecting ipywidgets\n"
      ]
     },
     "metadata": {},
     "output_type": "display_data"
    },
    {
     "data": {
      "text/html": [
       "<pre style=\"white-space:pre;overflow-x:auto;line-height:normal;font-family:Menlo,'DejaVu Sans Mono',consolas,'Courier New',monospace\">You should consider upgrading via the 'python -m pip install --upgrade pip' command.\n",
       "</pre>\n"
      ],
      "text/plain": [
       "You should consider upgrading via the 'python -m pip install --upgrade pip' command.\n"
      ]
     },
     "metadata": {},
     "output_type": "display_data"
    },
    {
     "data": {
      "text/html": [
       "<pre style=\"white-space:pre;overflow-x:auto;line-height:normal;font-family:Menlo,'DejaVu Sans Mono',consolas,'Courier New',monospace\">  Downloading \n",
       "https://files.pythonhosted.org/packages/50/7d/2c8b7bba2b1c2b5d1299f22fa7853f09b573c84e63b62870c13a6ec11990/ipywidge\n",
       "ts-8.0.6-py3-none-any.whl (138kB)\n",
       "</pre>\n"
      ],
      "text/plain": [
       "  Downloading \n",
       "https://files.pythonhosted.org/packages/50/7d/2c8b7bba2b1c2b5d1299f22fa7853f09b573c84e63b62870c13a6ec11990/ipywidge\n",
       "ts-8.0.6-py3-none-any.whl (138kB)\n"
      ]
     },
     "metadata": {},
     "output_type": "display_data"
    },
    {
     "data": {
      "text/html": [
       "<pre style=\"white-space:pre;overflow-x:auto;line-height:normal;font-family:Menlo,'DejaVu Sans Mono',consolas,'Courier New',monospace\">Collecting jupyterlab-widgets~=3.0.7 (from ipywidgets)\n",
       "</pre>\n"
      ],
      "text/plain": [
       "Collecting jupyterlab-widgets~=3.0.7 (from ipywidgets)\n"
      ]
     },
     "metadata": {},
     "output_type": "display_data"
    },
    {
     "data": {
      "text/html": [
       "<pre style=\"white-space:pre;overflow-x:auto;line-height:normal;font-family:Menlo,'DejaVu Sans Mono',consolas,'Courier New',monospace\">  Downloading \n",
       "https://files.pythonhosted.org/packages/46/98/e7ce879b7b5d4871b80e291be967d22e5e66fa43474c476a95fe6231f50d/jupyterl\n",
       "ab_widgets-3.0.7-py3-none-any.whl (198kB)\n",
       "</pre>\n"
      ],
      "text/plain": [
       "  Downloading \n",
       "https://files.pythonhosted.org/packages/46/98/e7ce879b7b5d4871b80e291be967d22e5e66fa43474c476a95fe6231f50d/jupyterl\n",
       "ab_widgets-3.0.7-py3-none-any.whl (198kB)\n"
      ]
     },
     "metadata": {},
     "output_type": "display_data"
    },
    {
     "data": {
      "text/html": [
       "<pre style=\"white-space:pre;overflow-x:auto;line-height:normal;font-family:Menlo,'DejaVu Sans Mono',consolas,'Courier New',monospace\">Collecting widgetsnbextension~=4.0.7 (from ipywidgets)\n",
       "</pre>\n"
      ],
      "text/plain": [
       "Collecting widgetsnbextension~=4.0.7 (from ipywidgets)\n"
      ]
     },
     "metadata": {},
     "output_type": "display_data"
    },
    {
     "data": {
      "text/html": [
       "<pre style=\"white-space:pre;overflow-x:auto;line-height:normal;font-family:Menlo,'DejaVu Sans Mono',consolas,'Courier New',monospace\">  Downloading \n",
       "https://files.pythonhosted.org/packages/2e/f0/6e3a0d9c1ef015322cad1dd2191c338349b41151e4dc5e7ae984700c9dd2/widgetsn\n",
       "bextension-4.0.7-py3-none-any.whl (2.1MB)\n",
       "</pre>\n"
      ],
      "text/plain": [
       "  Downloading \n",
       "https://files.pythonhosted.org/packages/2e/f0/6e3a0d9c1ef015322cad1dd2191c338349b41151e4dc5e7ae984700c9dd2/widgetsn\n",
       "bextension-4.0.7-py3-none-any.whl (2.1MB)\n"
      ]
     },
     "metadata": {},
     "output_type": "display_data"
    },
    {
     "data": {
      "text/html": [
       "<pre style=\"white-space:pre;overflow-x:auto;line-height:normal;font-family:Menlo,'DejaVu Sans Mono',consolas,'Courier New',monospace\">Requirement already satisfied: ipython&gt;=6.1.0 in \n",
       "c:\\users\\moham\\appdata\\local\\programs\\python\\python38\\lib\\site-packages (from ipywidgets) (8.12.0)\n",
       "</pre>\n"
      ],
      "text/plain": [
       "Requirement already satisfied: ipython>=6.1.0 in \n",
       "c:\\users\\moham\\appdata\\local\\programs\\python\\python38\\lib\\site-packages (from ipywidgets) (8.12.0)\n"
      ]
     },
     "metadata": {},
     "output_type": "display_data"
    },
    {
     "data": {
      "text/html": [
       "<pre style=\"white-space:pre;overflow-x:auto;line-height:normal;font-family:Menlo,'DejaVu Sans Mono',consolas,'Courier New',monospace\">Requirement already satisfied: traitlets&gt;=4.3.1 in \n",
       "c:\\users\\moham\\appdata\\local\\programs\\python\\python38\\lib\\site-packages (from ipywidgets) (5.9.0)\n",
       "</pre>\n"
      ],
      "text/plain": [
       "Requirement already satisfied: traitlets>=4.3.1 in \n",
       "c:\\users\\moham\\appdata\\local\\programs\\python\\python38\\lib\\site-packages (from ipywidgets) (5.9.0)\n"
      ]
     },
     "metadata": {},
     "output_type": "display_data"
    },
    {
     "data": {
      "text/html": [
       "<pre style=\"white-space:pre;overflow-x:auto;line-height:normal;font-family:Menlo,'DejaVu Sans Mono',consolas,'Courier New',monospace\">Requirement already satisfied: ipykernel&gt;=4.5.1 in \n",
       "c:\\users\\moham\\appdata\\local\\programs\\python\\python38\\lib\\site-packages (from ipywidgets) (6.22.0)\n",
       "</pre>\n"
      ],
      "text/plain": [
       "Requirement already satisfied: ipykernel>=4.5.1 in \n",
       "c:\\users\\moham\\appdata\\local\\programs\\python\\python38\\lib\\site-packages (from ipywidgets) (6.22.0)\n"
      ]
     },
     "metadata": {},
     "output_type": "display_data"
    },
    {
     "data": {
      "text/html": [
       "<pre style=\"white-space:pre;overflow-x:auto;line-height:normal;font-family:Menlo,'DejaVu Sans Mono',consolas,'Courier New',monospace\">Requirement already satisfied: colorama; sys_platform == \"win32\" in \n",
       "c:\\users\\moham\\appdata\\local\\programs\\python\\python38\\lib\\site-packages (from ipython&gt;=6.1.0-&gt;ipywidgets) (0.4.6)\n",
       "</pre>\n"
      ],
      "text/plain": [
       "Requirement already satisfied: colorama; sys_platform == \"win32\" in \n",
       "c:\\users\\moham\\appdata\\local\\programs\\python\\python38\\lib\\site-packages (from ipython>=6.1.0->ipywidgets) (0.4.6)\n"
      ]
     },
     "metadata": {},
     "output_type": "display_data"
    },
    {
     "data": {
      "text/html": [
       "<pre style=\"white-space:pre;overflow-x:auto;line-height:normal;font-family:Menlo,'DejaVu Sans Mono',consolas,'Courier New',monospace\">Requirement already satisfied: jedi&gt;=0.16 in \n",
       "c:\\users\\moham\\appdata\\local\\programs\\python\\python38\\lib\\site-packages (from ipython&gt;=6.1.0-&gt;ipywidgets) (0.18.2)\n",
       "</pre>\n"
      ],
      "text/plain": [
       "Requirement already satisfied: jedi>=0.16 in \n",
       "c:\\users\\moham\\appdata\\local\\programs\\python\\python38\\lib\\site-packages (from ipython>=6.1.0->ipywidgets) (0.18.2)\n"
      ]
     },
     "metadata": {},
     "output_type": "display_data"
    },
    {
     "data": {
      "text/html": [
       "<pre style=\"white-space:pre;overflow-x:auto;line-height:normal;font-family:Menlo,'DejaVu Sans Mono',consolas,'Courier New',monospace\">Requirement already satisfied: pickleshare in \n",
       "c:\\users\\moham\\appdata\\local\\programs\\python\\python38\\lib\\site-packages (from ipython&gt;=6.1.0-&gt;ipywidgets) (0.7.5)\n",
       "</pre>\n"
      ],
      "text/plain": [
       "Requirement already satisfied: pickleshare in \n",
       "c:\\users\\moham\\appdata\\local\\programs\\python\\python38\\lib\\site-packages (from ipython>=6.1.0->ipywidgets) (0.7.5)\n"
      ]
     },
     "metadata": {},
     "output_type": "display_data"
    },
    {
     "data": {
      "text/html": [
       "<pre style=\"white-space:pre;overflow-x:auto;line-height:normal;font-family:Menlo,'DejaVu Sans Mono',consolas,'Courier New',monospace\">Requirement already satisfied: prompt-toolkit!=3.0.37,&lt;3.1.0,&gt;=3.0.30 in \n",
       "c:\\users\\moham\\appdata\\local\\programs\\python\\python38\\lib\\site-packages (from ipython&gt;=6.1.0-&gt;ipywidgets) (3.0.38)\n",
       "</pre>\n"
      ],
      "text/plain": [
       "Requirement already satisfied: prompt-toolkit!=3.0.37,<3.1.0,>=3.0.30 in \n",
       "c:\\users\\moham\\appdata\\local\\programs\\python\\python38\\lib\\site-packages (from ipython>=6.1.0->ipywidgets) (3.0.38)\n"
      ]
     },
     "metadata": {},
     "output_type": "display_data"
    },
    {
     "data": {
      "text/html": [
       "<pre style=\"white-space:pre;overflow-x:auto;line-height:normal;font-family:Menlo,'DejaVu Sans Mono',consolas,'Courier New',monospace\">Requirement already satisfied: pygments&gt;=2.4.0 in \n",
       "c:\\users\\moham\\appdata\\local\\programs\\python\\python38\\lib\\site-packages (from ipython&gt;=6.1.0-&gt;ipywidgets) (2.15.1)\n",
       "</pre>\n"
      ],
      "text/plain": [
       "Requirement already satisfied: pygments>=2.4.0 in \n",
       "c:\\users\\moham\\appdata\\local\\programs\\python\\python38\\lib\\site-packages (from ipython>=6.1.0->ipywidgets) (2.15.1)\n"
      ]
     },
     "metadata": {},
     "output_type": "display_data"
    },
    {
     "data": {
      "text/html": [
       "<pre style=\"white-space:pre;overflow-x:auto;line-height:normal;font-family:Menlo,'DejaVu Sans Mono',consolas,'Courier New',monospace\">Requirement already satisfied: stack-data in \n",
       "c:\\users\\moham\\appdata\\local\\programs\\python\\python38\\lib\\site-packages (from ipython&gt;=6.1.0-&gt;ipywidgets) (0.6.2)\n",
       "</pre>\n"
      ],
      "text/plain": [
       "Requirement already satisfied: stack-data in \n",
       "c:\\users\\moham\\appdata\\local\\programs\\python\\python38\\lib\\site-packages (from ipython>=6.1.0->ipywidgets) (0.6.2)\n"
      ]
     },
     "metadata": {},
     "output_type": "display_data"
    },
    {
     "data": {
      "text/html": [
       "<pre style=\"white-space:pre;overflow-x:auto;line-height:normal;font-family:Menlo,'DejaVu Sans Mono',consolas,'Courier New',monospace\">Requirement already satisfied: matplotlib-inline in \n",
       "c:\\users\\moham\\appdata\\local\\programs\\python\\python38\\lib\\site-packages (from ipython&gt;=6.1.0-&gt;ipywidgets) (0.1.6)\n",
       "</pre>\n"
      ],
      "text/plain": [
       "Requirement already satisfied: matplotlib-inline in \n",
       "c:\\users\\moham\\appdata\\local\\programs\\python\\python38\\lib\\site-packages (from ipython>=6.1.0->ipywidgets) (0.1.6)\n"
      ]
     },
     "metadata": {},
     "output_type": "display_data"
    },
    {
     "data": {
      "text/html": [
       "<pre style=\"white-space:pre;overflow-x:auto;line-height:normal;font-family:Menlo,'DejaVu Sans Mono',consolas,'Courier New',monospace\">Requirement already satisfied: typing-extensions; python_version &lt; \"3.10\" in \n",
       "c:\\users\\moham\\appdata\\local\\programs\\python\\python38\\lib\\site-packages (from ipython&gt;=6.1.0-&gt;ipywidgets) (4.5.0)\n",
       "</pre>\n"
      ],
      "text/plain": [
       "Requirement already satisfied: typing-extensions; python_version < \"3.10\" in \n",
       "c:\\users\\moham\\appdata\\local\\programs\\python\\python38\\lib\\site-packages (from ipython>=6.1.0->ipywidgets) (4.5.0)\n"
      ]
     },
     "metadata": {},
     "output_type": "display_data"
    },
    {
     "data": {
      "text/html": [
       "<pre style=\"white-space:pre;overflow-x:auto;line-height:normal;font-family:Menlo,'DejaVu Sans Mono',consolas,'Courier New',monospace\">Requirement already satisfied: decorator in c:\\users\\moham\\appdata\\local\\programs\\python\\python38\\lib\\site-packages\n",
       "(from ipython&gt;=6.1.0-&gt;ipywidgets) (5.1.1)\n",
       "</pre>\n"
      ],
      "text/plain": [
       "Requirement already satisfied: decorator in c:\\users\\moham\\appdata\\local\\programs\\python\\python38\\lib\\site-packages\n",
       "(from ipython>=6.1.0->ipywidgets) (5.1.1)\n"
      ]
     },
     "metadata": {},
     "output_type": "display_data"
    },
    {
     "data": {
      "text/html": [
       "<pre style=\"white-space:pre;overflow-x:auto;line-height:normal;font-family:Menlo,'DejaVu Sans Mono',consolas,'Courier New',monospace\">Requirement already satisfied: backcall in c:\\users\\moham\\appdata\\local\\programs\\python\\python38\\lib\\site-packages \n",
       "(from ipython&gt;=6.1.0-&gt;ipywidgets) (0.2.0)\n",
       "</pre>\n"
      ],
      "text/plain": [
       "Requirement already satisfied: backcall in c:\\users\\moham\\appdata\\local\\programs\\python\\python38\\lib\\site-packages \n",
       "(from ipython>=6.1.0->ipywidgets) (0.2.0)\n"
      ]
     },
     "metadata": {},
     "output_type": "display_data"
    },
    {
     "data": {
      "text/html": [
       "<pre style=\"white-space:pre;overflow-x:auto;line-height:normal;font-family:Menlo,'DejaVu Sans Mono',consolas,'Courier New',monospace\">Requirement already satisfied: nest-asyncio in \n",
       "c:\\users\\moham\\appdata\\local\\programs\\python\\python38\\lib\\site-packages (from ipykernel&gt;=4.5.1-&gt;ipywidgets) (1.5.6)\n",
       "</pre>\n"
      ],
      "text/plain": [
       "Requirement already satisfied: nest-asyncio in \n",
       "c:\\users\\moham\\appdata\\local\\programs\\python\\python38\\lib\\site-packages (from ipykernel>=4.5.1->ipywidgets) (1.5.6)\n"
      ]
     },
     "metadata": {},
     "output_type": "display_data"
    },
    {
     "data": {
      "text/html": [
       "<pre style=\"white-space:pre;overflow-x:auto;line-height:normal;font-family:Menlo,'DejaVu Sans Mono',consolas,'Courier New',monospace\">Requirement already satisfied: debugpy&gt;=1.6.5 in \n",
       "c:\\users\\moham\\appdata\\local\\programs\\python\\python38\\lib\\site-packages (from ipykernel&gt;=4.5.1-&gt;ipywidgets) (1.6.7)\n",
       "</pre>\n"
      ],
      "text/plain": [
       "Requirement already satisfied: debugpy>=1.6.5 in \n",
       "c:\\users\\moham\\appdata\\local\\programs\\python\\python38\\lib\\site-packages (from ipykernel>=4.5.1->ipywidgets) (1.6.7)\n"
      ]
     },
     "metadata": {},
     "output_type": "display_data"
    },
    {
     "data": {
      "text/html": [
       "<pre style=\"white-space:pre;overflow-x:auto;line-height:normal;font-family:Menlo,'DejaVu Sans Mono',consolas,'Courier New',monospace\">Requirement already satisfied: psutil in c:\\users\\moham\\appdata\\local\\programs\\python\\python38\\lib\\site-packages \n",
       "(from ipykernel&gt;=4.5.1-&gt;ipywidgets) (5.9.5)\n",
       "</pre>\n"
      ],
      "text/plain": [
       "Requirement already satisfied: psutil in c:\\users\\moham\\appdata\\local\\programs\\python\\python38\\lib\\site-packages \n",
       "(from ipykernel>=4.5.1->ipywidgets) (5.9.5)\n"
      ]
     },
     "metadata": {},
     "output_type": "display_data"
    },
    {
     "data": {
      "text/html": [
       "<pre style=\"white-space:pre;overflow-x:auto;line-height:normal;font-family:Menlo,'DejaVu Sans Mono',consolas,'Courier New',monospace\">Requirement already satisfied: pyzmq&gt;=20 in c:\\users\\moham\\appdata\\local\\programs\\python\\python38\\lib\\site-packages\n",
       "(from ipykernel&gt;=4.5.1-&gt;ipywidgets) (25.0.2)\n",
       "</pre>\n"
      ],
      "text/plain": [
       "Requirement already satisfied: pyzmq>=20 in c:\\users\\moham\\appdata\\local\\programs\\python\\python38\\lib\\site-packages\n",
       "(from ipykernel>=4.5.1->ipywidgets) (25.0.2)\n"
      ]
     },
     "metadata": {},
     "output_type": "display_data"
    },
    {
     "data": {
      "text/html": [
       "<pre style=\"white-space:pre;overflow-x:auto;line-height:normal;font-family:Menlo,'DejaVu Sans Mono',consolas,'Courier New',monospace\">Requirement already satisfied: jupyter-client&gt;=6.1.12 in \n",
       "c:\\users\\moham\\appdata\\local\\programs\\python\\python38\\lib\\site-packages (from ipykernel&gt;=4.5.1-&gt;ipywidgets) (8.2.0)\n",
       "</pre>\n"
      ],
      "text/plain": [
       "Requirement already satisfied: jupyter-client>=6.1.12 in \n",
       "c:\\users\\moham\\appdata\\local\\programs\\python\\python38\\lib\\site-packages (from ipykernel>=4.5.1->ipywidgets) (8.2.0)\n"
      ]
     },
     "metadata": {},
     "output_type": "display_data"
    },
    {
     "data": {
      "text/html": [
       "<pre style=\"white-space:pre;overflow-x:auto;line-height:normal;font-family:Menlo,'DejaVu Sans Mono',consolas,'Courier New',monospace\">Requirement already satisfied: comm&gt;=0.1.1 in \n",
       "c:\\users\\moham\\appdata\\local\\programs\\python\\python38\\lib\\site-packages (from ipykernel&gt;=4.5.1-&gt;ipywidgets) (0.1.3)\n",
       "</pre>\n"
      ],
      "text/plain": [
       "Requirement already satisfied: comm>=0.1.1 in \n",
       "c:\\users\\moham\\appdata\\local\\programs\\python\\python38\\lib\\site-packages (from ipykernel>=4.5.1->ipywidgets) (0.1.3)\n"
      ]
     },
     "metadata": {},
     "output_type": "display_data"
    },
    {
     "data": {
      "text/html": [
       "<pre style=\"white-space:pre;overflow-x:auto;line-height:normal;font-family:Menlo,'DejaVu Sans Mono',consolas,'Courier New',monospace\">Requirement already satisfied: packaging in c:\\users\\moham\\appdata\\local\\programs\\python\\python38\\lib\\site-packages\n",
       "(from ipykernel&gt;=4.5.1-&gt;ipywidgets) (23.1)\n",
       "</pre>\n"
      ],
      "text/plain": [
       "Requirement already satisfied: packaging in c:\\users\\moham\\appdata\\local\\programs\\python\\python38\\lib\\site-packages\n",
       "(from ipykernel>=4.5.1->ipywidgets) (23.1)\n"
      ]
     },
     "metadata": {},
     "output_type": "display_data"
    },
    {
     "data": {
      "text/html": [
       "<pre style=\"white-space:pre;overflow-x:auto;line-height:normal;font-family:Menlo,'DejaVu Sans Mono',consolas,'Courier New',monospace\">Requirement already satisfied: tornado&gt;=6.1 in \n",
       "c:\\users\\moham\\appdata\\local\\programs\\python\\python38\\lib\\site-packages (from ipykernel&gt;=4.5.1-&gt;ipywidgets) (6.3.1)\n",
       "</pre>\n"
      ],
      "text/plain": [
       "Requirement already satisfied: tornado>=6.1 in \n",
       "c:\\users\\moham\\appdata\\local\\programs\\python\\python38\\lib\\site-packages (from ipykernel>=4.5.1->ipywidgets) (6.3.1)\n"
      ]
     },
     "metadata": {},
     "output_type": "display_data"
    },
    {
     "data": {
      "text/html": [
       "<pre style=\"white-space:pre;overflow-x:auto;line-height:normal;font-family:Menlo,'DejaVu Sans Mono',consolas,'Courier New',monospace\">Requirement already satisfied: jupyter-core!=5.0.*,&gt;=4.12 in \n",
       "c:\\users\\moham\\appdata\\local\\programs\\python\\python38\\lib\\site-packages (from ipykernel&gt;=4.5.1-&gt;ipywidgets) (5.3.0)\n",
       "</pre>\n"
      ],
      "text/plain": [
       "Requirement already satisfied: jupyter-core!=5.0.*,>=4.12 in \n",
       "c:\\users\\moham\\appdata\\local\\programs\\python\\python38\\lib\\site-packages (from ipykernel>=4.5.1->ipywidgets) (5.3.0)\n"
      ]
     },
     "metadata": {},
     "output_type": "display_data"
    },
    {
     "data": {
      "text/html": [
       "<pre style=\"white-space:pre;overflow-x:auto;line-height:normal;font-family:Menlo,'DejaVu Sans Mono',consolas,'Courier New',monospace\">Requirement already satisfied: parso&lt;0.9.0,&gt;=0.8.0 in \n",
       "c:\\users\\moham\\appdata\\local\\programs\\python\\python38\\lib\\site-packages (from \n",
       "jedi&gt;=0.16-&gt;ipython&gt;=6.1.0-&gt;ipywidgets) (0.8.3)\n",
       "</pre>\n"
      ],
      "text/plain": [
       "Requirement already satisfied: parso<0.9.0,>=0.8.0 in \n",
       "c:\\users\\moham\\appdata\\local\\programs\\python\\python38\\lib\\site-packages (from \n",
       "jedi>=0.16->ipython>=6.1.0->ipywidgets) (0.8.3)\n"
      ]
     },
     "metadata": {},
     "output_type": "display_data"
    },
    {
     "data": {
      "text/html": [
       "<pre style=\"white-space:pre;overflow-x:auto;line-height:normal;font-family:Menlo,'DejaVu Sans Mono',consolas,'Courier New',monospace\">Requirement already satisfied: wcwidth in c:\\users\\moham\\appdata\\local\\programs\\python\\python38\\lib\\site-packages \n",
       "(from prompt-toolkit!=3.0.37,&lt;3.1.0,&gt;=3.0.30-&gt;ipython&gt;=6.1.0-&gt;ipywidgets) (0.2.6)\n",
       "</pre>\n"
      ],
      "text/plain": [
       "Requirement already satisfied: wcwidth in c:\\users\\moham\\appdata\\local\\programs\\python\\python38\\lib\\site-packages \n",
       "(from prompt-toolkit!=3.0.37,<3.1.0,>=3.0.30->ipython>=6.1.0->ipywidgets) (0.2.6)\n"
      ]
     },
     "metadata": {},
     "output_type": "display_data"
    },
    {
     "data": {
      "text/html": [
       "<pre style=\"white-space:pre;overflow-x:auto;line-height:normal;font-family:Menlo,'DejaVu Sans Mono',consolas,'Courier New',monospace\">Requirement already satisfied: executing&gt;=1.2.0 in \n",
       "c:\\users\\moham\\appdata\\local\\programs\\python\\python38\\lib\\site-packages (from \n",
       "stack-data-&gt;ipython&gt;=6.1.0-&gt;ipywidgets) (1.2.0)\n",
       "</pre>\n"
      ],
      "text/plain": [
       "Requirement already satisfied: executing>=1.2.0 in \n",
       "c:\\users\\moham\\appdata\\local\\programs\\python\\python38\\lib\\site-packages (from \n",
       "stack-data->ipython>=6.1.0->ipywidgets) (1.2.0)\n"
      ]
     },
     "metadata": {},
     "output_type": "display_data"
    },
    {
     "data": {
      "text/html": [
       "<pre style=\"white-space:pre;overflow-x:auto;line-height:normal;font-family:Menlo,'DejaVu Sans Mono',consolas,'Courier New',monospace\">Requirement already satisfied: asttokens&gt;=2.1.0 in \n",
       "c:\\users\\moham\\appdata\\local\\programs\\python\\python38\\lib\\site-packages (from \n",
       "stack-data-&gt;ipython&gt;=6.1.0-&gt;ipywidgets) (2.2.1)\n",
       "</pre>\n"
      ],
      "text/plain": [
       "Requirement already satisfied: asttokens>=2.1.0 in \n",
       "c:\\users\\moham\\appdata\\local\\programs\\python\\python38\\lib\\site-packages (from \n",
       "stack-data->ipython>=6.1.0->ipywidgets) (2.2.1)\n"
      ]
     },
     "metadata": {},
     "output_type": "display_data"
    },
    {
     "data": {
      "text/html": [
       "<pre style=\"white-space:pre;overflow-x:auto;line-height:normal;font-family:Menlo,'DejaVu Sans Mono',consolas,'Courier New',monospace\">Requirement already satisfied: pure-eval in c:\\users\\moham\\appdata\\local\\programs\\python\\python38\\lib\\site-packages\n",
       "(from stack-data-&gt;ipython&gt;=6.1.0-&gt;ipywidgets) (0.2.2)\n",
       "</pre>\n"
      ],
      "text/plain": [
       "Requirement already satisfied: pure-eval in c:\\users\\moham\\appdata\\local\\programs\\python\\python38\\lib\\site-packages\n",
       "(from stack-data->ipython>=6.1.0->ipywidgets) (0.2.2)\n"
      ]
     },
     "metadata": {},
     "output_type": "display_data"
    },
    {
     "data": {
      "text/html": [
       "<pre style=\"white-space:pre;overflow-x:auto;line-height:normal;font-family:Menlo,'DejaVu Sans Mono',consolas,'Courier New',monospace\">Requirement already satisfied: python-dateutil&gt;=2.8.2 in \n",
       "c:\\users\\moham\\appdata\\local\\programs\\python\\python38\\lib\\site-packages (from \n",
       "jupyter-client&gt;=6.1.12-&gt;ipykernel&gt;=4.5.1-&gt;ipywidgets) (2.8.2)\n",
       "</pre>\n"
      ],
      "text/plain": [
       "Requirement already satisfied: python-dateutil>=2.8.2 in \n",
       "c:\\users\\moham\\appdata\\local\\programs\\python\\python38\\lib\\site-packages (from \n",
       "jupyter-client>=6.1.12->ipykernel>=4.5.1->ipywidgets) (2.8.2)\n"
      ]
     },
     "metadata": {},
     "output_type": "display_data"
    },
    {
     "data": {
      "text/html": [
       "<pre style=\"white-space:pre;overflow-x:auto;line-height:normal;font-family:Menlo,'DejaVu Sans Mono',consolas,'Courier New',monospace\">Requirement already satisfied: importlib-metadata&gt;=4.8.3; python_version &lt; \"3.10\" in \n",
       "c:\\users\\moham\\appdata\\local\\programs\\python\\python38\\lib\\site-packages (from \n",
       "jupyter-client&gt;=6.1.12-&gt;ipykernel&gt;=4.5.1-&gt;ipywidgets) (4.13.0)\n",
       "</pre>\n"
      ],
      "text/plain": [
       "Requirement already satisfied: importlib-metadata>=4.8.3; python_version < \"3.10\" in \n",
       "c:\\users\\moham\\appdata\\local\\programs\\python\\python38\\lib\\site-packages (from \n",
       "jupyter-client>=6.1.12->ipykernel>=4.5.1->ipywidgets) (4.13.0)\n"
      ]
     },
     "metadata": {},
     "output_type": "display_data"
    },
    {
     "data": {
      "text/html": [
       "<pre style=\"white-space:pre;overflow-x:auto;line-height:normal;font-family:Menlo,'DejaVu Sans Mono',consolas,'Courier New',monospace\">Requirement already satisfied: pywin32&gt;=300; sys_platform == \"win32\" and platform_python_implementation != \"PyPy\" \n",
       "in c:\\users\\moham\\appdata\\local\\programs\\python\\python38\\lib\\site-packages (from \n",
       "jupyter-core!=5.0.*,&gt;=4.12-&gt;ipykernel&gt;=4.5.1-&gt;ipywidgets) (306)\n",
       "</pre>\n"
      ],
      "text/plain": [
       "Requirement already satisfied: pywin32>=300; sys_platform == \"win32\" and platform_python_implementation != \"PyPy\" \n",
       "in c:\\users\\moham\\appdata\\local\\programs\\python\\python38\\lib\\site-packages (from \n",
       "jupyter-core!=5.0.*,>=4.12->ipykernel>=4.5.1->ipywidgets) (306)\n"
      ]
     },
     "metadata": {},
     "output_type": "display_data"
    },
    {
     "data": {
      "text/html": [
       "<pre style=\"white-space:pre;overflow-x:auto;line-height:normal;font-family:Menlo,'DejaVu Sans Mono',consolas,'Courier New',monospace\">Requirement already satisfied: platformdirs&gt;=2.5 in \n",
       "c:\\users\\moham\\appdata\\local\\programs\\python\\python38\\lib\\site-packages (from \n",
       "jupyter-core!=5.0.*,&gt;=4.12-&gt;ipykernel&gt;=4.5.1-&gt;ipywidgets) (3.4.0)\n",
       "</pre>\n"
      ],
      "text/plain": [
       "Requirement already satisfied: platformdirs>=2.5 in \n",
       "c:\\users\\moham\\appdata\\local\\programs\\python\\python38\\lib\\site-packages (from \n",
       "jupyter-core!=5.0.*,>=4.12->ipykernel>=4.5.1->ipywidgets) (3.4.0)\n"
      ]
     },
     "metadata": {},
     "output_type": "display_data"
    },
    {
     "data": {
      "text/html": [
       "<pre style=\"white-space:pre;overflow-x:auto;line-height:normal;font-family:Menlo,'DejaVu Sans Mono',consolas,'Courier New',monospace\">Requirement already satisfied: six in c:\\users\\moham\\appdata\\local\\programs\\python\\python38\\lib\\site-packages (from\n",
       "asttokens&gt;=2.1.0-&gt;stack-data-&gt;ipython&gt;=6.1.0-&gt;ipywidgets) (1.16.0)\n",
       "</pre>\n"
      ],
      "text/plain": [
       "Requirement already satisfied: six in c:\\users\\moham\\appdata\\local\\programs\\python\\python38\\lib\\site-packages (from\n",
       "asttokens>=2.1.0->stack-data->ipython>=6.1.0->ipywidgets) (1.16.0)\n"
      ]
     },
     "metadata": {},
     "output_type": "display_data"
    },
    {
     "data": {
      "text/html": [
       "<pre style=\"white-space:pre;overflow-x:auto;line-height:normal;font-family:Menlo,'DejaVu Sans Mono',consolas,'Courier New',monospace\">Requirement already satisfied: zipp&gt;=0.5 in c:\\users\\moham\\appdata\\local\\programs\\python\\python38\\lib\\site-packages\n",
       "(from importlib-metadata&gt;=4.8.3; python_version &lt; \"3.10\"-&gt;jupyter-client&gt;=6.1.12-&gt;ipykernel&gt;=4.5.1-&gt;ipywidgets) \n",
       "(3.15.0)\n",
       "</pre>\n"
      ],
      "text/plain": [
       "Requirement already satisfied: zipp>=0.5 in c:\\users\\moham\\appdata\\local\\programs\\python\\python38\\lib\\site-packages\n",
       "(from importlib-metadata>=4.8.3; python_version < \"3.10\"->jupyter-client>=6.1.12->ipykernel>=4.5.1->ipywidgets) \n",
       "(3.15.0)\n"
      ]
     },
     "metadata": {},
     "output_type": "display_data"
    },
    {
     "data": {
      "text/html": [
       "<pre style=\"white-space:pre;overflow-x:auto;line-height:normal;font-family:Menlo,'DejaVu Sans Mono',consolas,'Courier New',monospace\">Installing collected packages: jupyterlab-widgets, widgetsnbextension, ipywidgets\n",
       "</pre>\n"
      ],
      "text/plain": [
       "Installing collected packages: jupyterlab-widgets, widgetsnbextension, ipywidgets\n"
      ]
     },
     "metadata": {},
     "output_type": "display_data"
    },
    {
     "data": {
      "text/html": [
       "<pre style=\"white-space:pre;overflow-x:auto;line-height:normal;font-family:Menlo,'DejaVu Sans Mono',consolas,'Courier New',monospace\">Successfully installed ipywidgets-8.0.6 jupyterlab-widgets-3.0.7 widgetsnbextension-4.0.7\n",
       "</pre>\n"
      ],
      "text/plain": [
       "Successfully installed ipywidgets-8.0.6 jupyterlab-widgets-3.0.7 widgetsnbextension-4.0.7\n"
      ]
     },
     "metadata": {},
     "output_type": "display_data"
    }
   ],
   "source": [
    "# Import ipywidgets to display a progress bar when training the models\n",
    "!pip install ipywidgets"
   ]
  },
  {
   "cell_type": "code",
   "execution_count": 19,
   "id": "6137cab1-18c1-44cb-a43f-2dc3d4b27ef7",
   "metadata": {
    "tags": []
   },
   "outputs": [],
   "source": [
    "# Import the PPO algorithm for training\n",
    "from stable_baselines3 import PPO"
   ]
  },
  {
   "cell_type": "code",
   "execution_count": 24,
   "id": "931f1e85-6d8d-4549-aa47-ed08293f6161",
   "metadata": {
    "tags": []
   },
   "outputs": [],
   "source": [
    "env = VizDoomGym(config='github/ViZDoom/scenarios/deadly_corridor_s1.cfg')"
   ]
  },
  {
   "cell_type": "code",
   "execution_count": 25,
   "id": "341faec1-c18f-4df6-a627-640438a978a5",
   "metadata": {
    "tags": []
   },
   "outputs": [
    {
     "name": "stdout",
     "output_type": "stream",
     "text": [
      "Using cuda device\n",
      "Wrapping the env with a `Monitor` wrapper\n",
      "Wrapping the env in a DummyVecEnv.\n",
      "Wrapping the env in a VecTransposeImage.\n"
     ]
    }
   ],
   "source": [
    "# CnnPolicy because we are passing in an image\n",
    "# Cnn = Convolution neural network\n",
    "\n",
    "# model = PPO('CnnPolicy', env, tensorboard_log=LOG_DIR, verbose=1, learning_rate=0.0001, n_steps=4096)\n",
    "# Change hyperparameters for more stability in model training\n",
    "model = PPO('CnnPolicy', env, tensorboard_log=LOG_DIR, verbose=1, learning_rate=0.00001, n_steps=8192, clip_range=.1, gamma=0.95, gae_lambda=.9)\n",
    "# model = PPO.load('./train/train_deadly_corridor/best_model_560000')\n",
    "# model.set_parameters(load_path_or_dict='./train/train_deadly_corridor/best_model_160000.zip')"
   ]
  },
  {
   "cell_type": "code",
   "execution_count": 28,
   "id": "d5c0d31f-71b7-44cc-bae6-bf5f0dc9a9f0",
   "metadata": {
    "scrolled": true,
    "tags": []
   },
   "outputs": [
    {
     "data": {
      "text/html": [
       "<pre style=\"white-space:pre;overflow-x:auto;line-height:normal;font-family:Menlo,'DejaVu Sans Mono',consolas,'Courier New',monospace\"><span style=\"color: #800080; text-decoration-color: #800080\">   1%</span> <span style=\"color: #f92672; text-decoration-color: #f92672\">╸</span><span style=\"color: #3a3a3a; text-decoration-color: #3a3a3a\">━━━━━━━━━━━━━━━━━━━━━━━━━━━━━━━━━━━━━━━━━━━━━━━━━━━━━━━━━━━━━━━━</span> <span style=\"color: #008000; text-decoration-color: #008000\">636/80,000 </span> [ <span style=\"color: #808000; text-decoration-color: #808000\">0:01:54</span> &lt; <span style=\"color: #008080; text-decoration-color: #008080\">1:02:38</span> , <span style=\"color: #800000; text-decoration-color: #800000\">21 it/s</span> ]\n",
       "</pre>\n"
      ],
      "text/plain": [
       "\u001b[35m   1%\u001b[0m \u001b[38;2;249;38;114m╸\u001b[0m\u001b[38;5;237m━━━━━━━━━━━━━━━━━━━━━━━━━━━━━━━━━━━━━━━━━━━━━━━━━━━━━━━━━━━━━━━━\u001b[0m \u001b[32m636/80,000 \u001b[0m [ \u001b[33m0:01:54\u001b[0m < \u001b[36m1:02:38\u001b[0m , \u001b[31m21 it/s\u001b[0m ]\n"
      ]
     },
     "metadata": {},
     "output_type": "display_data"
    }
   ],
   "source": [
    "model.learn(total_timesteps=80000, callback=callback, progress_bar=True)"
   ]
  },
  {
   "cell_type": "code",
   "execution_count": 23,
   "id": "a3f1a696-ff1a-4e1e-9da5-3e74f7ffc20f",
   "metadata": {
    "tags": []
   },
   "outputs": [],
   "source": [
    "env.close()"
   ]
  },
  {
   "cell_type": "code",
   "execution_count": null,
   "id": "a5a4f21d-c88c-4857-8699-cf77c08ba64f",
   "metadata": {
    "scrolled": true,
    "tags": []
   },
   "outputs": [],
   "source": [
    "env = VizDoomGym(config='github/ViZDoom/scenarios/deadly_corridor_s2.cfg')\n",
    "model.set_env(env)\n",
    "model = PPO.load('./train/train_deadly_corridor/best_model_340000')\n",
    "model.learn(total_timesteps=40000, callback=callback)"
   ]
  },
  {
   "cell_type": "code",
   "execution_count": null,
   "id": "3899b2f4-c91f-4617-95a1-6f60680a16d2",
   "metadata": {
    "scrolled": true,
    "tags": []
   },
   "outputs": [],
   "source": [
    "env = VizDoomGym(config='github/ViZDoom/scenarios/deadly_corridor_s3.cfg')\n",
    "model.set_env(env)\n",
    "model.learn(total_timesteps=100000, callback=callback)"
   ]
  },
  {
   "cell_type": "code",
   "execution_count": null,
   "id": "3d99b085-4c41-4167-99f9-834fa35bb506",
   "metadata": {},
   "outputs": [],
   "source": [
    "env = VizDoomGym(config='github/ViZDoom/scenarios/deadly_corridor_s4.cfg')\n",
    "model.set_env(env)\n",
    "model.learn(total_timesteps=40000, callback=callback)"
   ]
  },
  {
   "cell_type": "code",
   "execution_count": null,
   "id": "84121e7f-81e9-47ef-8faf-857f0a80d0e5",
   "metadata": {},
   "outputs": [],
   "source": [
    "env = VizDoomGym(config='github/ViZDoom/scenarios/deadly_corridor_s5.cfg')\n",
    "model.set_env(env)\n",
    "model.learn(total_timesteps=40000, callback=callback)"
   ]
  },
  {
   "cell_type": "markdown",
   "id": "a8574072-c7ea-4146-bad4-d5638704de87",
   "metadata": {
    "tags": []
   },
   "source": [
    "To view the logs run `tensorboard --logdir=.` in the PPO dir of the model run.  \n",
    "  \n",
    "Explaining the data:  \n",
    "> 1. `ep_len_mean`: Mean episode length (averaged over stats_window_size episodes, 100 by default)\n",
    "> 2. `ep_rew_mean`: Mean episodic training reward (averaged over stats_window_size episodes, 100 by default).\n",
    "> 3. `approx_kl`: approximate mean KL divergence between old and new policy (for PPO), it is an estimation of how much changes happened in the update\n",
    "> 4. `clip_fraction`: mean fraction of surrogate loss that was clipped (above clip_range threshold) for PPO.\n",
    "> 5. `clip_range`: Current value of the clipping factor for the surrogate loss of PPO\n",
    "> 6. `critic_loss`: Current value for the critic function loss for off-policy algorithms, usually error between value function output and TD(0), temporal difference estimate\n",
    "> 7. `learning_rate`: Current learning rate value\n",
    "> 8. `loss`: Current total loss value\n",
    "> 9. `n_updates`: Number of gradient updates applied so far\n",
    "> 14. `policy_gradient_loss`: Current value of the policy gradient loss (its value does not have much meaning)\n",
    "> 15. `value_loss`: Current value for the value function loss for on-policy algorithms"
   ]
  },
  {
   "cell_type": "markdown",
   "id": "6fbeb17f-924c-40ad-a36a-f2a6f5a26be5",
   "metadata": {},
   "source": [
    "# 6. Test the Model"
   ]
  },
  {
   "cell_type": "code",
   "execution_count": null,
   "id": "2ac0ba5b-b920-43cc-ae54-85de3ca226db",
   "metadata": {
    "tags": []
   },
   "outputs": [],
   "source": [
    "# Import eval policy to test agent\n",
    "from stable_baselines3.common.evaluation import evaluate_policy"
   ]
  },
  {
   "cell_type": "code",
   "execution_count": null,
   "id": "cca591ce-a954-418e-bbcd-ca651961e90f",
   "metadata": {
    "tags": []
   },
   "outputs": [],
   "source": [
    "# Reload model from disc\n",
    "# model = PPO.load('./train/train_deadly_corridor/best_model_560000_nick')"
   ]
  },
  {
   "cell_type": "code",
   "execution_count": null,
   "id": "c807842e-2155-444b-830f-f834723646e1",
   "metadata": {
    "tags": []
   },
   "outputs": [],
   "source": [
    "# Create rendered environment\n",
    "env = VizDoomGym(render=True, config=\"github/ViZDoom/scenarios/deadly_corridor_s3.cfg\")"
   ]
  },
  {
   "cell_type": "code",
   "execution_count": null,
   "id": "261d95c2-acf7-4e33-87d8-855f66e382a8",
   "metadata": {
    "tags": []
   },
   "outputs": [],
   "source": [
    "# Evaluate mean reward for 100 games\n",
    "mean_reward, _ = evaluate_policy(model, env, n_eval_episodes=100)"
   ]
  },
  {
   "cell_type": "code",
   "execution_count": null,
   "id": "2a004cba-0244-47fd-9d3b-970083faf02c",
   "metadata": {
    "tags": []
   },
   "outputs": [],
   "source": [
    "mean_reward"
   ]
  },
  {
   "cell_type": "code",
   "execution_count": null,
   "id": "af99ad8b-e35f-49db-acb9-ef960d8d8d6b",
   "metadata": {
    "tags": []
   },
   "outputs": [],
   "source": [
    "for episode in range(10):\n",
    "    obs = env.reset()\n",
    "    done = False\n",
    "    total_reward = 0\n",
    "    while not done:\n",
    "        action, _ = model.predict(obs)\n",
    "        obs, reward, done, info = env.step(action)\n",
    "        # time.sleep(0.125)\n",
    "        total_reward += reward\n",
    "    print('Total reward for episode {} is {}'.format(episode, total_reward))\n",
    "    time.sleep(2)"
   ]
  },
  {
   "cell_type": "code",
   "execution_count": null,
   "id": "f89174c2-3a1c-4d60-93f7-d2b212d2c152",
   "metadata": {
    "tags": []
   },
   "outputs": [],
   "source": [
    "env.close()"
   ]
  },
  {
   "cell_type": "code",
   "execution_count": null,
   "id": "cae5b7b1-5cc0-454b-b8d4-c95066c3cb71",
   "metadata": {},
   "outputs": [],
   "source": []
  }
 ],
 "metadata": {
  "kernelspec": {
   "display_name": "Python 3 (ipykernel)",
   "language": "python",
   "name": "python3"
  },
  "language_info": {
   "codemirror_mode": {
    "name": "ipython",
    "version": 3
   },
   "file_extension": ".py",
   "mimetype": "text/x-python",
   "name": "python",
   "nbconvert_exporter": "python",
   "pygments_lexer": "ipython3",
   "version": "3.8.0"
  },
  "toc-autonumbering": false
 },
 "nbformat": 4,
 "nbformat_minor": 5
}
